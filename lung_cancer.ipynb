{
  "nbformat": 4,
  "nbformat_minor": 0,
  "metadata": {
    "kernelspec": {
      "display_name": "Python 3",
      "language": "python",
      "name": "python3"
    },
    "language_info": {
      "codemirror_mode": {
        "name": "ipython",
        "version": 3
      },
      "file_extension": ".py",
      "mimetype": "text/x-python",
      "name": "python",
      "nbconvert_exporter": "python",
      "pygments_lexer": "ipython3",
      "version": "3.7.4"
    },
    "colab": {
      "name": "lung_cancer.ipynb",
      "provenance": [],
      "include_colab_link": true
    }
  },
  "cells": [
    {
      "cell_type": "markdown",
      "metadata": {
        "id": "view-in-github",
        "colab_type": "text"
      },
      "source": [
        "<a href=\"https://colab.research.google.com/github/moumitam28/project_1/blob/main/lung_cancer.ipynb\" target=\"_parent\"><img src=\"https://colab.research.google.com/assets/colab-badge.svg\" alt=\"Open In Colab\"/></a>"
      ]
    },
    {
      "cell_type": "code",
      "metadata": {
        "id": "_KMqlduXj45r"
      },
      "source": [
        "import pandas as pd\n",
        "import numpy as np"
      ],
      "execution_count": null,
      "outputs": []
    },
    {
      "cell_type": "code",
      "metadata": {
        "id": "HEtnMP10j45_",
        "outputId": "3932912a-3d69-40c7-a0f3-3586843b46e2"
      },
      "source": [
        "data = pd.read_csv('lung.csv')\n",
        "data.head()"
      ],
      "execution_count": null,
      "outputs": [
        {
          "output_type": "execute_result",
          "data": {
            "text/html": [
              "<div>\n",
              "<style scoped>\n",
              "    .dataframe tbody tr th:only-of-type {\n",
              "        vertical-align: middle;\n",
              "    }\n",
              "\n",
              "    .dataframe tbody tr th {\n",
              "        vertical-align: top;\n",
              "    }\n",
              "\n",
              "    .dataframe thead th {\n",
              "        text-align: right;\n",
              "    }\n",
              "</style>\n",
              "<table border=\"1\" class=\"dataframe\">\n",
              "  <thead>\n",
              "    <tr style=\"text-align: right;\">\n",
              "      <th></th>\n",
              "      <th>class</th>\n",
              "      <th>attribute2</th>\n",
              "      <th>attribute3</th>\n",
              "      <th>attribute4</th>\n",
              "      <th>attribute5</th>\n",
              "      <th>attribute6</th>\n",
              "      <th>attribute7</th>\n",
              "      <th>attribute8</th>\n",
              "      <th>attribute9</th>\n",
              "      <th>attribute10</th>\n",
              "      <th>...</th>\n",
              "      <th>attribute48</th>\n",
              "      <th>attribute49</th>\n",
              "      <th>attribute50</th>\n",
              "      <th>attribute51</th>\n",
              "      <th>attribute52</th>\n",
              "      <th>attribute53</th>\n",
              "      <th>attribute54</th>\n",
              "      <th>attribute55</th>\n",
              "      <th>attribute56</th>\n",
              "      <th>attribute57</th>\n",
              "    </tr>\n",
              "  </thead>\n",
              "  <tbody>\n",
              "    <tr>\n",
              "      <td>0</td>\n",
              "      <td>1</td>\n",
              "      <td>0</td>\n",
              "      <td>3</td>\n",
              "      <td>0</td>\n",
              "      <td>0</td>\n",
              "      <td>0</td>\n",
              "      <td>2</td>\n",
              "      <td>2</td>\n",
              "      <td>2</td>\n",
              "      <td>1</td>\n",
              "      <td>...</td>\n",
              "      <td>2</td>\n",
              "      <td>2</td>\n",
              "      <td>2</td>\n",
              "      <td>2</td>\n",
              "      <td>2</td>\n",
              "      <td>1</td>\n",
              "      <td>1</td>\n",
              "      <td>1</td>\n",
              "      <td>2</td>\n",
              "      <td>2</td>\n",
              "    </tr>\n",
              "    <tr>\n",
              "      <td>1</td>\n",
              "      <td>1</td>\n",
              "      <td>0</td>\n",
              "      <td>3</td>\n",
              "      <td>3</td>\n",
              "      <td>1</td>\n",
              "      <td>0</td>\n",
              "      <td>3</td>\n",
              "      <td>1</td>\n",
              "      <td>3</td>\n",
              "      <td>1</td>\n",
              "      <td>...</td>\n",
              "      <td>2</td>\n",
              "      <td>2</td>\n",
              "      <td>2</td>\n",
              "      <td>2</td>\n",
              "      <td>2</td>\n",
              "      <td>2</td>\n",
              "      <td>2</td>\n",
              "      <td>1</td>\n",
              "      <td>2</td>\n",
              "      <td>2</td>\n",
              "    </tr>\n",
              "    <tr>\n",
              "      <td>2</td>\n",
              "      <td>1</td>\n",
              "      <td>0</td>\n",
              "      <td>3</td>\n",
              "      <td>3</td>\n",
              "      <td>2</td>\n",
              "      <td>0</td>\n",
              "      <td>3</td>\n",
              "      <td>3</td>\n",
              "      <td>3</td>\n",
              "      <td>1</td>\n",
              "      <td>...</td>\n",
              "      <td>2</td>\n",
              "      <td>2</td>\n",
              "      <td>2</td>\n",
              "      <td>2</td>\n",
              "      <td>2</td>\n",
              "      <td>2</td>\n",
              "      <td>2</td>\n",
              "      <td>2</td>\n",
              "      <td>1</td>\n",
              "      <td>2</td>\n",
              "    </tr>\n",
              "    <tr>\n",
              "      <td>3</td>\n",
              "      <td>1</td>\n",
              "      <td>0</td>\n",
              "      <td>2</td>\n",
              "      <td>3</td>\n",
              "      <td>2</td>\n",
              "      <td>1</td>\n",
              "      <td>3</td>\n",
              "      <td>3</td>\n",
              "      <td>3</td>\n",
              "      <td>1</td>\n",
              "      <td>...</td>\n",
              "      <td>2</td>\n",
              "      <td>2</td>\n",
              "      <td>2</td>\n",
              "      <td>2</td>\n",
              "      <td>2</td>\n",
              "      <td>2</td>\n",
              "      <td>2</td>\n",
              "      <td>2</td>\n",
              "      <td>2</td>\n",
              "      <td>2</td>\n",
              "    </tr>\n",
              "    <tr>\n",
              "      <td>4</td>\n",
              "      <td>1</td>\n",
              "      <td>0</td>\n",
              "      <td>3</td>\n",
              "      <td>2</td>\n",
              "      <td>1</td>\n",
              "      <td>1</td>\n",
              "      <td>3</td>\n",
              "      <td>3</td>\n",
              "      <td>3</td>\n",
              "      <td>2</td>\n",
              "      <td>...</td>\n",
              "      <td>2</td>\n",
              "      <td>2</td>\n",
              "      <td>2</td>\n",
              "      <td>2</td>\n",
              "      <td>2</td>\n",
              "      <td>2</td>\n",
              "      <td>2</td>\n",
              "      <td>1</td>\n",
              "      <td>2</td>\n",
              "      <td>2</td>\n",
              "    </tr>\n",
              "  </tbody>\n",
              "</table>\n",
              "<p>5 rows × 57 columns</p>\n",
              "</div>"
            ],
            "text/plain": [
              "   class  attribute2  attribute3  attribute4  attribute5  attribute6  \\\n",
              "0      1           0           3           0           0           0   \n",
              "1      1           0           3           3           1           0   \n",
              "2      1           0           3           3           2           0   \n",
              "3      1           0           2           3           2           1   \n",
              "4      1           0           3           2           1           1   \n",
              "\n",
              "   attribute7  attribute8  attribute9  attribute10  ...  attribute48  \\\n",
              "0           2           2           2            1  ...            2   \n",
              "1           3           1           3            1  ...            2   \n",
              "2           3           3           3            1  ...            2   \n",
              "3           3           3           3            1  ...            2   \n",
              "4           3           3           3            2  ...            2   \n",
              "\n",
              "   attribute49  attribute50  attribute51  attribute52  attribute53  \\\n",
              "0            2            2            2            2            1   \n",
              "1            2            2            2            2            2   \n",
              "2            2            2            2            2            2   \n",
              "3            2            2            2            2            2   \n",
              "4            2            2            2            2            2   \n",
              "\n",
              "   attribute54  attribute55  attribute56  attribute57  \n",
              "0            1            1            2            2  \n",
              "1            2            1            2            2  \n",
              "2            2            2            1            2  \n",
              "3            2            2            2            2  \n",
              "4            2            1            2            2  \n",
              "\n",
              "[5 rows x 57 columns]"
            ]
          },
          "metadata": {
            "tags": []
          },
          "execution_count": 2
        }
      ]
    },
    {
      "cell_type": "code",
      "metadata": {
        "id": "uRkBsk0Kj46I",
        "outputId": "5a44bdce-1b17-4fec-cc1e-9aa431954833"
      },
      "source": [
        "data = data.rename(columns = {'class': 'Class'})\n",
        "data.head()"
      ],
      "execution_count": null,
      "outputs": [
        {
          "output_type": "execute_result",
          "data": {
            "text/html": [
              "<div>\n",
              "<style scoped>\n",
              "    .dataframe tbody tr th:only-of-type {\n",
              "        vertical-align: middle;\n",
              "    }\n",
              "\n",
              "    .dataframe tbody tr th {\n",
              "        vertical-align: top;\n",
              "    }\n",
              "\n",
              "    .dataframe thead th {\n",
              "        text-align: right;\n",
              "    }\n",
              "</style>\n",
              "<table border=\"1\" class=\"dataframe\">\n",
              "  <thead>\n",
              "    <tr style=\"text-align: right;\">\n",
              "      <th></th>\n",
              "      <th>Class</th>\n",
              "      <th>attribute2</th>\n",
              "      <th>attribute3</th>\n",
              "      <th>attribute4</th>\n",
              "      <th>attribute5</th>\n",
              "      <th>attribute6</th>\n",
              "      <th>attribute7</th>\n",
              "      <th>attribute8</th>\n",
              "      <th>attribute9</th>\n",
              "      <th>attribute10</th>\n",
              "      <th>...</th>\n",
              "      <th>attribute48</th>\n",
              "      <th>attribute49</th>\n",
              "      <th>attribute50</th>\n",
              "      <th>attribute51</th>\n",
              "      <th>attribute52</th>\n",
              "      <th>attribute53</th>\n",
              "      <th>attribute54</th>\n",
              "      <th>attribute55</th>\n",
              "      <th>attribute56</th>\n",
              "      <th>attribute57</th>\n",
              "    </tr>\n",
              "  </thead>\n",
              "  <tbody>\n",
              "    <tr>\n",
              "      <td>0</td>\n",
              "      <td>1</td>\n",
              "      <td>0</td>\n",
              "      <td>3</td>\n",
              "      <td>0</td>\n",
              "      <td>0</td>\n",
              "      <td>0</td>\n",
              "      <td>2</td>\n",
              "      <td>2</td>\n",
              "      <td>2</td>\n",
              "      <td>1</td>\n",
              "      <td>...</td>\n",
              "      <td>2</td>\n",
              "      <td>2</td>\n",
              "      <td>2</td>\n",
              "      <td>2</td>\n",
              "      <td>2</td>\n",
              "      <td>1</td>\n",
              "      <td>1</td>\n",
              "      <td>1</td>\n",
              "      <td>2</td>\n",
              "      <td>2</td>\n",
              "    </tr>\n",
              "    <tr>\n",
              "      <td>1</td>\n",
              "      <td>1</td>\n",
              "      <td>0</td>\n",
              "      <td>3</td>\n",
              "      <td>3</td>\n",
              "      <td>1</td>\n",
              "      <td>0</td>\n",
              "      <td>3</td>\n",
              "      <td>1</td>\n",
              "      <td>3</td>\n",
              "      <td>1</td>\n",
              "      <td>...</td>\n",
              "      <td>2</td>\n",
              "      <td>2</td>\n",
              "      <td>2</td>\n",
              "      <td>2</td>\n",
              "      <td>2</td>\n",
              "      <td>2</td>\n",
              "      <td>2</td>\n",
              "      <td>1</td>\n",
              "      <td>2</td>\n",
              "      <td>2</td>\n",
              "    </tr>\n",
              "    <tr>\n",
              "      <td>2</td>\n",
              "      <td>1</td>\n",
              "      <td>0</td>\n",
              "      <td>3</td>\n",
              "      <td>3</td>\n",
              "      <td>2</td>\n",
              "      <td>0</td>\n",
              "      <td>3</td>\n",
              "      <td>3</td>\n",
              "      <td>3</td>\n",
              "      <td>1</td>\n",
              "      <td>...</td>\n",
              "      <td>2</td>\n",
              "      <td>2</td>\n",
              "      <td>2</td>\n",
              "      <td>2</td>\n",
              "      <td>2</td>\n",
              "      <td>2</td>\n",
              "      <td>2</td>\n",
              "      <td>2</td>\n",
              "      <td>1</td>\n",
              "      <td>2</td>\n",
              "    </tr>\n",
              "    <tr>\n",
              "      <td>3</td>\n",
              "      <td>1</td>\n",
              "      <td>0</td>\n",
              "      <td>2</td>\n",
              "      <td>3</td>\n",
              "      <td>2</td>\n",
              "      <td>1</td>\n",
              "      <td>3</td>\n",
              "      <td>3</td>\n",
              "      <td>3</td>\n",
              "      <td>1</td>\n",
              "      <td>...</td>\n",
              "      <td>2</td>\n",
              "      <td>2</td>\n",
              "      <td>2</td>\n",
              "      <td>2</td>\n",
              "      <td>2</td>\n",
              "      <td>2</td>\n",
              "      <td>2</td>\n",
              "      <td>2</td>\n",
              "      <td>2</td>\n",
              "      <td>2</td>\n",
              "    </tr>\n",
              "    <tr>\n",
              "      <td>4</td>\n",
              "      <td>1</td>\n",
              "      <td>0</td>\n",
              "      <td>3</td>\n",
              "      <td>2</td>\n",
              "      <td>1</td>\n",
              "      <td>1</td>\n",
              "      <td>3</td>\n",
              "      <td>3</td>\n",
              "      <td>3</td>\n",
              "      <td>2</td>\n",
              "      <td>...</td>\n",
              "      <td>2</td>\n",
              "      <td>2</td>\n",
              "      <td>2</td>\n",
              "      <td>2</td>\n",
              "      <td>2</td>\n",
              "      <td>2</td>\n",
              "      <td>2</td>\n",
              "      <td>1</td>\n",
              "      <td>2</td>\n",
              "      <td>2</td>\n",
              "    </tr>\n",
              "  </tbody>\n",
              "</table>\n",
              "<p>5 rows × 57 columns</p>\n",
              "</div>"
            ],
            "text/plain": [
              "   Class  attribute2  attribute3  attribute4  attribute5  attribute6  \\\n",
              "0      1           0           3           0           0           0   \n",
              "1      1           0           3           3           1           0   \n",
              "2      1           0           3           3           2           0   \n",
              "3      1           0           2           3           2           1   \n",
              "4      1           0           3           2           1           1   \n",
              "\n",
              "   attribute7  attribute8  attribute9  attribute10  ...  attribute48  \\\n",
              "0           2           2           2            1  ...            2   \n",
              "1           3           1           3            1  ...            2   \n",
              "2           3           3           3            1  ...            2   \n",
              "3           3           3           3            1  ...            2   \n",
              "4           3           3           3            2  ...            2   \n",
              "\n",
              "   attribute49  attribute50  attribute51  attribute52  attribute53  \\\n",
              "0            2            2            2            2            1   \n",
              "1            2            2            2            2            2   \n",
              "2            2            2            2            2            2   \n",
              "3            2            2            2            2            2   \n",
              "4            2            2            2            2            2   \n",
              "\n",
              "   attribute54  attribute55  attribute56  attribute57  \n",
              "0            1            1            2            2  \n",
              "1            2            1            2            2  \n",
              "2            2            2            1            2  \n",
              "3            2            2            2            2  \n",
              "4            2            1            2            2  \n",
              "\n",
              "[5 rows x 57 columns]"
            ]
          },
          "metadata": {
            "tags": []
          },
          "execution_count": 3
        }
      ]
    },
    {
      "cell_type": "code",
      "metadata": {
        "id": "qCLBxF16j46O",
        "outputId": "1d1a4d1a-b0f4-4413-fc78-38c91b1710a3"
      },
      "source": [
        "data.isnull().sum()"
      ],
      "execution_count": null,
      "outputs": [
        {
          "output_type": "execute_result",
          "data": {
            "text/plain": [
              "Class          0\n",
              "attribute2     0\n",
              "attribute3     0\n",
              "attribute4     0\n",
              "attribute5     0\n",
              "attribute6     0\n",
              "attribute7     0\n",
              "attribute8     0\n",
              "attribute9     0\n",
              "attribute10    0\n",
              "attribute11    0\n",
              "attribute12    0\n",
              "attribute13    0\n",
              "attribute14    0\n",
              "attribute15    0\n",
              "attribute16    0\n",
              "attribute17    0\n",
              "attribute18    0\n",
              "attribute19    0\n",
              "attribute20    0\n",
              "attribute21    0\n",
              "attribute22    0\n",
              "attribute23    0\n",
              "attribute24    0\n",
              "attribute25    0\n",
              "attribute26    0\n",
              "attribute27    0\n",
              "attribute28    0\n",
              "attribute29    0\n",
              "attribute30    0\n",
              "attribute31    0\n",
              "attribute32    0\n",
              "attribute33    0\n",
              "attribute34    0\n",
              "attribute35    0\n",
              "attribute36    0\n",
              "attribute37    0\n",
              "attribute38    0\n",
              "attribute39    0\n",
              "attribute40    0\n",
              "attribute41    0\n",
              "attribute42    0\n",
              "attribute43    0\n",
              "attribute44    0\n",
              "attribute45    0\n",
              "attribute46    0\n",
              "attribute47    0\n",
              "attribute48    0\n",
              "attribute49    0\n",
              "attribute50    0\n",
              "attribute51    0\n",
              "attribute52    0\n",
              "attribute53    0\n",
              "attribute54    0\n",
              "attribute55    0\n",
              "attribute56    0\n",
              "attribute57    0\n",
              "dtype: int64"
            ]
          },
          "metadata": {
            "tags": []
          },
          "execution_count": 4
        }
      ]
    },
    {
      "cell_type": "code",
      "metadata": {
        "id": "6Qadgnx9j46U",
        "outputId": "5cafc948-364d-4af2-eade-95e7a2189a47"
      },
      "source": [
        "from sklearn.model_selection import train_test_split\n",
        "from numpy import mean\n",
        "from numpy import std\n",
        "from sklearn.datasets import make_classification\n",
        "from sklearn.model_selection import KFold\n",
        "from sklearn.model_selection import RepeatedKFold\n",
        "from sklearn.model_selection import cross_val_score\n",
        "\n",
        "\n",
        "\n",
        "X = data.drop(['Class'], axis=1)\n",
        "y = data.Class\n",
        "x_train, x_test, y_train, y_test = train_test_split(X,y,test_size=0.5)\n",
        "cv = KFold(n_splits=10, random_state=1, shuffle=True)\n",
        "cv1 = RepeatedKFold(n_splits=10, n_repeats=3, random_state=1)\n",
        "\n",
        "\n",
        "from sklearn.svm import SVC, LinearSVC\n",
        "from sklearn.ensemble import RandomForestClassifier\n",
        "from xgboost import XGBClassifier\n",
        "from sklearn.neighbors import KNeighborsClassifier\n",
        "\n",
        "SVM = SVC()\n",
        "RFC = RandomForestClassifier()\n",
        "XGB = XGBClassifier()\n",
        "KNN=KNeighborsClassifier()\n",
        "scores = cross_val_score(SVM, X, y, scoring='accuracy', cv=cv, n_jobs=-1)\n",
        "#scores1 = cross_val_score(SVM, X, y, scoring='accuracy', cv=cv1, n_jobs=-1)\n",
        "print('SVM Accuracy 10 fold: %.4f (%.3f)' % (mean(scores)*100, std(scores)))\n",
        "#print('SVM Accuracy Repeated 10 fold: %.3f (%.3f)' % (mean(scores1), std(scores1)))\n",
        "scores = cross_val_score(RFC, X, y, scoring='accuracy', cv=cv, n_jobs=-1)\n",
        "#scores1 = cross_val_score(RFC, X, y, scoring='accuracy', cv=cv1, n_jobs=-1)\n",
        "print('RFC Accuracy 10 fold: %.4f (%.3f)' % (mean(scores)*100, std(scores)))\n",
        "#print('RFC Accuracy Repeated 10 fold: %.3f (%.3f)' % (mean(scores1), std(scores1)))\n",
        "scores = cross_val_score(XGB, X, y, scoring='accuracy', cv=cv, n_jobs=-1)\n",
        "#scores1 = cross_val_score(XGB, X, y, scoring='accuracy', cv=cv1, n_jobs=-1)\n",
        "print('XGB Accuracy 10 fold: %.4f (%.3f)' % (mean(scores)*100, std(scores)))\n",
        "#print('XGB Accuracy Repeated 10 fold: %.3f (%.3f)' % (mean(scores1), std(scores1)))\n",
        "scores = cross_val_score(KNN, X, y, scoring='accuracy', cv=cv, n_jobs=-1)\n",
        "#scores1 = cross_val_score(KNN, X, y, scoring='accuracy', cv=cv1, n_jobs=-1)\n",
        "print('KNN Accuracy 10 fold: %.4f (%.3f)' % (mean(scores)*100, std(scores)))\n",
        "#print('KNN Accuracy Repeated 10 fold: %.3f (%.3f)' % (mean(scores1), std(scores1)))\n",
        "\n"
      ],
      "execution_count": null,
      "outputs": [
        {
          "output_type": "stream",
          "text": [
            "C:\\ProgramData\\Anaconda3\\lib\\site-packages\\distributed\\utils.py:133: RuntimeWarning: Couldn't detect a suitable IP address for reaching '8.8.8.8', defaulting to '127.0.0.1': [WinError 10065] A socket operation was attempted to an unreachable host\n",
            "  RuntimeWarning,\n"
          ],
          "name": "stderr"
        },
        {
          "output_type": "stream",
          "text": [
            "SVM Accuracy 10 fold: 37.5000 (0.282)\n",
            "RFC Accuracy 10 fold: 42.5000 (0.259)\n",
            "XGB Accuracy 10 fold: 51.6667 (0.238)\n",
            "KNN Accuracy 10 fold: 55.8333 (0.264)\n"
          ],
          "name": "stdout"
        }
      ]
    },
    {
      "cell_type": "code",
      "metadata": {
        "id": "SM7zUNpHj46Z",
        "outputId": "b4e33826-affd-41cb-d83f-8cc11b7124b0"
      },
      "source": [
        "#Chi-Square Test\n",
        "\n",
        "import scipy.stats as stats\n",
        "from scipy.stats import chi2\n",
        "\n",
        "def chi_sqr(test_column,output_column):\n",
        "    observed_value = pd.crosstab(test_column,output_column)\n",
        "    val = stats.chi2_contingency(observed_value)\n",
        "    expected_value=val[3]\n",
        "    no_of_rows=len(observed_value.iloc[0:2,0])\n",
        "    no_of_columns=len(observed_value.iloc[0,0:2])\n",
        "    dgof=(no_of_rows-1)*(no_of_columns-1)\n",
        "    alpha=0.05\n",
        "    for o,e in zip(observed_value.values,expected_value):\n",
        "        chi_2 = sum([(o-e)**2./e])       \n",
        "    chi2_stat = np.sum(chi_2)\n",
        "    return chi2_stat\n",
        "    \n",
        "df1 = data.drop(['Class'], axis=1)\n",
        "top_n1 =[]\n",
        "for i in df1.columns.values:\n",
        "    top_n1.append(chi_sqr(df1[i],data['Class']))\n",
        "    \n",
        "col_name1 = np.array(X.columns)\n",
        "a1 = pd.DataFrame(top_n1)\n",
        "b1 = pd.DataFrame(col_name1)\n",
        "info1 = pd.concat([a1,b1], axis=1)\n",
        "info1.columns = ['Score','Features']\n",
        "\n",
        "top1 = info1.nsmallest(20,'Score')\n",
        "ft1 = np.array(top1['Features'])\n",
        "top1\n",
        "ft1"
      ],
      "execution_count": null,
      "outputs": [
        {
          "output_type": "execute_result",
          "data": {
            "text/plain": [
              "array(['attribute5', 'attribute19', 'attribute6', 'attribute23',\n",
              "       'attribute32', 'attribute33', 'attribute56', 'attribute27',\n",
              "       'attribute22', 'attribute18', 'attribute29', 'attribute30',\n",
              "       'attribute26', 'attribute10', 'attribute13', 'attribute25',\n",
              "       'attribute55', 'attribute2', 'attribute12', 'attribute34'],\n",
              "      dtype=object)"
            ]
          },
          "metadata": {
            "tags": []
          },
          "execution_count": 6
        }
      ]
    },
    {
      "cell_type": "code",
      "metadata": {
        "id": "weqhBX79j46h",
        "outputId": "c8ddca76-41e2-4074-a0b6-6fb4d877051a"
      },
      "source": [
        "#ReliefF\n",
        "\n",
        "from sklearn.pipeline import make_pipeline\n",
        "from skrebate import ReliefF\n",
        "\n",
        "features, classes = data.drop('Class', axis=1).values, data['Class'].values\n",
        "X_train, X_test, y_train, y_test = train_test_split(features, classes)\n",
        "\n",
        "arr = X_train.astype('float64')\n",
        "fs = ReliefF()\n",
        "fs.fit(arr, y_train)\n",
        "\n",
        "top_n2=[]\n",
        "names=[]\n",
        "for feature_name, feature_score in zip(data.drop('Class', axis=1).columns, fs.feature_importances_):\n",
        "    top_n2.append(feature_score)\n",
        "    names.append(feature_name)\n",
        "    \n",
        "col_name3 = np.array(data.columns)\n",
        "a3 = pd.DataFrame(top_n2)\n",
        "b3 = pd.DataFrame(names)\n",
        "\n",
        "info3 = pd.concat([a3,b3], axis=1)\n",
        "info3.columns = ['Score','Features'] \n",
        "\n",
        "top3 = info3.nlargest(20,'Score')\n",
        "ft3 = np.array(top3['Features'])\n",
        "ft3"
      ],
      "execution_count": null,
      "outputs": [
        {
          "output_type": "execute_result",
          "data": {
            "text/plain": [
              "array(['attribute21', 'attribute7', 'attribute57', 'attribute20',\n",
              "       'attribute9', 'attribute15', 'attribute24', 'attribute11',\n",
              "       'attribute41', 'attribute54', 'attribute43', 'attribute3',\n",
              "       'attribute38', 'attribute16', 'attribute55', 'attribute8',\n",
              "       'attribute35', 'attribute5', 'attribute14', 'attribute39'],\n",
              "      dtype=object)"
            ]
          },
          "metadata": {
            "tags": []
          },
          "execution_count": 7
        }
      ]
    },
    {
      "cell_type": "code",
      "metadata": {
        "id": "OYmK4LCGj46m",
        "outputId": "ae9e3c04-f305-4214-d85d-968dddd085da"
      },
      "source": [
        "#Information Gain/Mutual Information\n",
        "\n",
        "from sklearn.feature_selection import mutual_info_classif\n",
        "\n",
        "res = mutual_info_classif(X,y,discrete_features=True)\n",
        "\n",
        "col_name2 = np.array(X.columns)\n",
        "\n",
        "a2 = pd.DataFrame(res)\n",
        "b2 = pd.DataFrame(col_name2)\n",
        "info2 = pd.concat([a2,b2], axis=1)\n",
        "info2.columns = ['Info_Gain','Features']\n",
        "\n",
        "top2 = info2.nlargest(20,'Info_Gain')\n",
        "ft2 = np.array(top2['Features'])\n",
        "ft2"
      ],
      "execution_count": null,
      "outputs": [
        {
          "output_type": "execute_result",
          "data": {
            "text/plain": [
              "array(['attribute21', 'attribute41', 'attribute15', 'attribute20',\n",
              "       'attribute7', 'attribute9', 'attribute38', 'attribute14',\n",
              "       'attribute34', 'attribute24', 'attribute44', 'attribute57',\n",
              "       'attribute47', 'attribute54', 'attribute3', 'attribute39',\n",
              "       'attribute16', 'attribute46', 'attribute40', 'attribute8'],\n",
              "      dtype=object)"
            ]
          },
          "metadata": {
            "tags": []
          },
          "execution_count": 8
        }
      ]
    },
    {
      "cell_type": "code",
      "metadata": {
        "id": "KomTih3zj46r"
      },
      "source": [
        "from functools import reduce\n",
        "def top_fs_union(n):\n",
        "    f1 = ft1[:n]\n",
        "    f2 = ft2[:n]\n",
        "    f3 = ft3[:n]\n",
        "    return(reduce(np.union1d, (f1,f2,f3)))"
      ],
      "execution_count": null,
      "outputs": []
    },
    {
      "cell_type": "code",
      "metadata": {
        "id": "klOHGJ5cj46x",
        "outputId": "4ec9a2c3-d66e-432d-fd24-3f28e282af44"
      },
      "source": [
        "top_fs_union(5)"
      ],
      "execution_count": null,
      "outputs": [
        {
          "output_type": "execute_result",
          "data": {
            "text/plain": [
              "array(['attribute15', 'attribute19', 'attribute20', 'attribute21',\n",
              "       'attribute23', 'attribute32', 'attribute41', 'attribute5',\n",
              "       'attribute57', 'attribute6', 'attribute7', 'attribute9'],\n",
              "      dtype=object)"
            ]
          },
          "metadata": {
            "tags": []
          },
          "execution_count": 10
        }
      ]
    },
    {
      "cell_type": "code",
      "metadata": {
        "id": "zYhc7MLKj463",
        "outputId": "6c237b24-9f5d-4c98-aaf9-7f8162d615e7"
      },
      "source": [
        "top_fs_union(8)"
      ],
      "execution_count": null,
      "outputs": [
        {
          "output_type": "execute_result",
          "data": {
            "text/plain": [
              "array(['attribute11', 'attribute14', 'attribute15', 'attribute19',\n",
              "       'attribute20', 'attribute21', 'attribute23', 'attribute24',\n",
              "       'attribute27', 'attribute32', 'attribute33', 'attribute38',\n",
              "       'attribute41', 'attribute5', 'attribute56', 'attribute57',\n",
              "       'attribute6', 'attribute7', 'attribute9'], dtype=object)"
            ]
          },
          "metadata": {
            "tags": []
          },
          "execution_count": 11
        }
      ]
    },
    {
      "cell_type": "code",
      "metadata": {
        "id": "hWktk56ij467",
        "outputId": "40cccfb9-f624-4708-ed83-404c50a6c20e"
      },
      "source": [
        "top_fs_union(10)"
      ],
      "execution_count": null,
      "outputs": [
        {
          "output_type": "execute_result",
          "data": {
            "text/plain": [
              "array(['attribute11', 'attribute14', 'attribute15', 'attribute18',\n",
              "       'attribute19', 'attribute20', 'attribute21', 'attribute22',\n",
              "       'attribute23', 'attribute24', 'attribute27', 'attribute32',\n",
              "       'attribute33', 'attribute34', 'attribute38', 'attribute41',\n",
              "       'attribute5', 'attribute54', 'attribute56', 'attribute57',\n",
              "       'attribute6', 'attribute7', 'attribute9'], dtype=object)"
            ]
          },
          "metadata": {
            "tags": []
          },
          "execution_count": 12
        }
      ]
    },
    {
      "cell_type": "code",
      "metadata": {
        "id": "BnADa0kij47A",
        "outputId": "e8fe4ea4-366c-41ac-b5d9-48a6c1567fca"
      },
      "source": [
        "top_fs_union(15)"
      ],
      "execution_count": null,
      "outputs": [
        {
          "output_type": "execute_result",
          "data": {
            "text/plain": [
              "array(['attribute10', 'attribute11', 'attribute13', 'attribute14',\n",
              "       'attribute15', 'attribute16', 'attribute18', 'attribute19',\n",
              "       'attribute20', 'attribute21', 'attribute22', 'attribute23',\n",
              "       'attribute24', 'attribute26', 'attribute27', 'attribute29',\n",
              "       'attribute3', 'attribute30', 'attribute32', 'attribute33',\n",
              "       'attribute34', 'attribute38', 'attribute41', 'attribute43',\n",
              "       'attribute44', 'attribute47', 'attribute5', 'attribute54',\n",
              "       'attribute55', 'attribute56', 'attribute57', 'attribute6',\n",
              "       'attribute7', 'attribute9'], dtype=object)"
            ]
          },
          "metadata": {
            "tags": []
          },
          "execution_count": 13
        }
      ]
    },
    {
      "cell_type": "code",
      "metadata": {
        "id": "ZMyh8ccBj47F",
        "outputId": "3e306495-0774-421a-b6bd-0ab408d2e302"
      },
      "source": [
        "top_fs_union(20)"
      ],
      "execution_count": null,
      "outputs": [
        {
          "output_type": "execute_result",
          "data": {
            "text/plain": [
              "array(['attribute10', 'attribute11', 'attribute12', 'attribute13',\n",
              "       'attribute14', 'attribute15', 'attribute16', 'attribute18',\n",
              "       'attribute19', 'attribute2', 'attribute20', 'attribute21',\n",
              "       'attribute22', 'attribute23', 'attribute24', 'attribute25',\n",
              "       'attribute26', 'attribute27', 'attribute29', 'attribute3',\n",
              "       'attribute30', 'attribute32', 'attribute33', 'attribute34',\n",
              "       'attribute35', 'attribute38', 'attribute39', 'attribute40',\n",
              "       'attribute41', 'attribute43', 'attribute44', 'attribute46',\n",
              "       'attribute47', 'attribute5', 'attribute54', 'attribute55',\n",
              "       'attribute56', 'attribute57', 'attribute6', 'attribute7',\n",
              "       'attribute8', 'attribute9'], dtype=object)"
            ]
          },
          "metadata": {
            "tags": []
          },
          "execution_count": 14
        }
      ]
    },
    {
      "cell_type": "code",
      "metadata": {
        "id": "JEUiTrpJj47K"
      },
      "source": [
        "def assemble_run(n,classifier):\n",
        "  top_fs=top_fs_union(n)\n",
        "  top_fs=np.append(top_fs,['Class'], axis=0)\n",
        "  dfs = data.loc[:,top_fs]\n",
        "  X = dfs.drop(['Class'], axis=1)\n",
        "  y = dfs['Class']\n",
        "  model = classifier()\n",
        "  scores = cross_val_score(model, X, y, scoring='accuracy', cv=cv, n_jobs=-1)\n",
        "  print('Accuracy 10 fold: %.4f (%.3f)' % (mean(scores)*100, std(scores)))\n"
      ],
      "execution_count": null,
      "outputs": []
    },
    {
      "cell_type": "code",
      "metadata": {
        "id": "7QHGeIq5j47P",
        "outputId": "6e570ca2-1fc2-4f51-abe2-e602b363a9a5"
      },
      "source": [
        "#SUPPORT VECTOR MACHINE\n",
        "\n",
        "#Feature Subset by Union of 5 Best Features from each\n",
        "SVM1 = assemble_run(5,SVC)\n",
        "#Feature Subset by Union of 8 Best Features from each\n",
        "SVM2 = assemble_run(8,SVC)\n",
        "#Feature Subset by Union of 10 Best Features from each\n",
        "SVM3 = assemble_run(10,SVC)\n",
        "#Feature Subset by Union of 15 Best Features from each\n",
        "SVM4 = assemble_run(15,SVC)\n",
        "#Feature Subset by Union of20 Best Features from each\n",
        "SVM5 = assemble_run(20,SVC)\n"
      ],
      "execution_count": null,
      "outputs": [
        {
          "output_type": "stream",
          "text": [
            "Accuracy 10 fold: 55.0000 (0.259)\n",
            "Accuracy 10 fold: 54.1667 (0.272)\n",
            "Accuracy 10 fold: 51.6667 (0.238)\n",
            "Accuracy 10 fold: 45.8333 (0.267)\n",
            "Accuracy 10 fold: 43.3333 (0.249)\n"
          ],
          "name": "stdout"
        }
      ]
    },
    {
      "cell_type": "code",
      "metadata": {
        "id": "EjfTzVNAj47U",
        "outputId": "b4faf41d-21db-43e4-e7f2-e2753c65a4a4"
      },
      "source": [
        "#RANDOM FOREST CLASSIFIER\n",
        "\n",
        "#Feature Subset by Union of 5 Best Features from each\n",
        "RFC1 = assemble_run(5,RandomForestClassifier)\n",
        "#Feature Subset by Union of 8 Best Features from each\n",
        "RFC2 = assemble_run(8,RandomForestClassifier)\n",
        "#Feature Subset by Union of 10 Best Features from each\n",
        "RFC2 = assemble_run(10,RandomForestClassifier)\n",
        "#Feature Subset by Union of 15 Best Features from each\n",
        "RFC3 = assemble_run(15,RandomForestClassifier)\n",
        "#Feature Subset by Union of 20 Best Features from each\n",
        "RFC4 = assemble_run(20,RandomForestClassifier)\n"
      ],
      "execution_count": null,
      "outputs": [
        {
          "output_type": "stream",
          "text": [
            "Accuracy 10 fold: 59.1667 (0.254)\n",
            "Accuracy 10 fold: 42.5000 (0.151)\n",
            "Accuracy 10 fold: 52.5000 (0.167)\n",
            "Accuracy 10 fold: 44.1667 (0.264)\n",
            "Accuracy 10 fold: 61.6667 (0.296)\n"
          ],
          "name": "stdout"
        }
      ]
    },
    {
      "cell_type": "code",
      "metadata": {
        "id": "IU-XQGijj47Y",
        "outputId": "f5fe6fb2-a384-4bc3-8159-799f0ce74fa7"
      },
      "source": [
        "#XG BOOST CLASSIFIER\n",
        "\n",
        "#Feature Subset by Union of 5 Best Features from each\n",
        "XGB1 = assemble_run(5,XGBClassifier)\n",
        "#Feature Subset by Union of 8 Best Features from each\n",
        "XGB2 = assemble_run(8,XGBClassifier)\n",
        "#Feature Subset by Union of 10 Best Features from each\n",
        "XGB3 = assemble_run(10,XGBClassifier)\n",
        "#Feature Subset by Union of 15 Best Features from each\n",
        "XGB4 = assemble_run(15,XGBClassifier)\n",
        "#Feature Subset by Union of 20 Best Features from each\n",
        "XGB5 = assemble_run(20,XGBClassifier)"
      ],
      "execution_count": null,
      "outputs": [
        {
          "output_type": "stream",
          "text": [
            "Accuracy 10 fold: 57.5000 (0.265)\n",
            "Accuracy 10 fold: 51.6667 (0.302)\n",
            "Accuracy 10 fold: 51.6667 (0.217)\n",
            "Accuracy 10 fold: 51.6667 (0.186)\n",
            "Accuracy 10 fold: 48.3333 (0.186)\n"
          ],
          "name": "stdout"
        }
      ]
    },
    {
      "cell_type": "code",
      "metadata": {
        "id": "Js4OqxmCj47c",
        "outputId": "cb8c3e02-dc7d-4082-da70-92e4bf86fe31"
      },
      "source": [
        "#KNN CLASSIFIER\n",
        "\n",
        "#Feature Subset by Union of 5 Best Features from each\n",
        "KNN1 = assemble_run(5,KNeighborsClassifier)\n",
        "#Feature Subset by Union of 8 Best Features from each\n",
        "KNN2 = assemble_run(8,KNeighborsClassifier)\n",
        "#Feature Subset by Union of 10 Best Features from each\n",
        "KNN3 = assemble_run(10,KNeighborsClassifier)\n",
        "#Feature Subset by Union of 15 Best Features from each\n",
        "KNN4 = assemble_run(15,KNeighborsClassifier)\n",
        "#Feature Subset by Union of 20 Best Features from each\n",
        "KNN5 = assemble_run(20,KNeighborsClassifier)\n"
      ],
      "execution_count": null,
      "outputs": [
        {
          "output_type": "stream",
          "text": [
            "Accuracy 10 fold: 62.5000 (0.187)\n",
            "Accuracy 10 fold: 46.6667 (0.208)\n",
            "Accuracy 10 fold: 53.3333 (0.208)\n",
            "Accuracy 10 fold: 46.6667 (0.256)\n",
            "Accuracy 10 fold: 45.8333 (0.267)\n"
          ],
          "name": "stdout"
        }
      ]
    },
    {
      "cell_type": "code",
      "metadata": {
        "id": "SA3EF_bYj47h"
      },
      "source": [
        "def top_fs_int(n):\n",
        "    f1 = ft1[:n]\n",
        "    f2 = ft2[:n]\n",
        "    f3 = ft3[:n]\n",
        "    return(reduce(np.intersect1d, (f1,f2,f3)))"
      ],
      "execution_count": null,
      "outputs": []
    },
    {
      "cell_type": "code",
      "metadata": {
        "id": "fEP498Qxj47l",
        "outputId": "057d2d07-2ac4-4586-97db-a14a5002fe1e"
      },
      "source": [
        "top_fs_int(5)"
      ],
      "execution_count": null,
      "outputs": [
        {
          "output_type": "execute_result",
          "data": {
            "text/plain": [
              "array([], dtype=object)"
            ]
          },
          "metadata": {
            "tags": []
          },
          "execution_count": 21
        }
      ]
    },
    {
      "cell_type": "code",
      "metadata": {
        "id": "iZ1Ozefej47p",
        "outputId": "882e80dd-0355-4da0-bdaa-b8f3b32b617b"
      },
      "source": [
        "top_fs_int(8)"
      ],
      "execution_count": null,
      "outputs": [
        {
          "output_type": "execute_result",
          "data": {
            "text/plain": [
              "array([], dtype=object)"
            ]
          },
          "metadata": {
            "tags": []
          },
          "execution_count": 22
        }
      ]
    },
    {
      "cell_type": "code",
      "metadata": {
        "id": "Zcvefg7ej47t",
        "outputId": "917f8560-a71d-468f-965c-1fed1f8cb60b"
      },
      "source": [
        "top_fs_int(10)"
      ],
      "execution_count": null,
      "outputs": [
        {
          "output_type": "execute_result",
          "data": {
            "text/plain": [
              "array([], dtype=object)"
            ]
          },
          "metadata": {
            "tags": []
          },
          "execution_count": 23
        }
      ]
    },
    {
      "cell_type": "code",
      "metadata": {
        "id": "vTuEc3Pzj47z",
        "outputId": "540c0689-ae5e-447d-a356-3ef3e2994686"
      },
      "source": [
        "top_fs_int(15)"
      ],
      "execution_count": null,
      "outputs": [
        {
          "output_type": "execute_result",
          "data": {
            "text/plain": [
              "array([], dtype=object)"
            ]
          },
          "metadata": {
            "tags": []
          },
          "execution_count": 24
        }
      ]
    },
    {
      "cell_type": "code",
      "metadata": {
        "id": "yL-jEgCNj473",
        "outputId": "5869011c-4e26-4343-97ef-ca1ce1413aa6"
      },
      "source": [
        "top_fs_int(20)"
      ],
      "execution_count": null,
      "outputs": [
        {
          "output_type": "execute_result",
          "data": {
            "text/plain": [
              "array([], dtype=object)"
            ]
          },
          "metadata": {
            "tags": []
          },
          "execution_count": 25
        }
      ]
    },
    {
      "cell_type": "code",
      "metadata": {
        "id": "VZX3UmyCj478"
      },
      "source": [
        "def assemble_run(n,classifier):\n",
        "  top_fs=top_fs_int(n)\n",
        "  top_fs=np.append(top_fs,['Class'], axis=0)\n",
        "  dfs = data.loc[:,top_fs]\n",
        "  X = dfs.drop(['Class'], axis=1)\n",
        "  y = dfs['Class']\n",
        "  model = classifier()\n",
        "  scores = cross_val_score(model, X, y, scoring='accuracy', cv=cv, n_jobs=-1)\n",
        "  print('Accuracy 10 fold: %.4f (%.3f)' % (mean(scores)*100, std(scores)))\n"
      ],
      "execution_count": null,
      "outputs": []
    },
    {
      "cell_type": "code",
      "metadata": {
        "id": "g3WzghINj48B"
      },
      "source": [
        "#SUPPORT VECTOR MACHINE\n",
        "\n",
        "#Feature Subset by Union of 5 Best Features from each\n",
        "SVM1 = assemble_run(5,SVC)\n",
        "#Feature Subset by Union of 8 Best Features from each\n",
        "SVM2 = assemble_run(8,SVC)\n",
        "#Feature Subset by Union of 10 Best Features from each\n",
        "SVM3 = assemble_run(10,SVC)\n",
        "#Feature Subset by Union of 15 Best Features from each\n",
        "SVM4 = assemble_run(15,SVC)\n",
        "#Feature Subset by Union of20 Best Features from each\n",
        "SVM5 = assemble_run(20,SVC)\n"
      ],
      "execution_count": null,
      "outputs": []
    },
    {
      "cell_type": "code",
      "metadata": {
        "id": "aYwwvCxuj48F"
      },
      "source": [
        "#RANDOM FOREST CLASSIFIER\n",
        "\n",
        "#Feature Subset by Union of 5 Best Features from each\n",
        "RFC1 = assemble_run(5,RandomForestClassifier)\n",
        "#Feature Subset by Union of 8 Best Features from each\n",
        "RFC2 = assemble_run(8,RandomForestClassifier)\n",
        "#Feature Subset by Union of 10 Best Features from each\n",
        "RFC2 = assemble_run(10,RandomForestClassifier)\n",
        "#Feature Subset by Union of 15 Best Features from each\n",
        "RFC3 = assemble_run(15,RandomForestClassifier)\n",
        "#Feature Subset by Union of 20 Best Features from each\n",
        "RFC4 = assemble_run(20,RandomForestClassifier)\n"
      ],
      "execution_count": null,
      "outputs": []
    },
    {
      "cell_type": "code",
      "metadata": {
        "id": "OMmc5Yzqj48J"
      },
      "source": [
        "#XG BOOST CLASSIFIER\n",
        "\n",
        "#Feature Subset by Union of 5 Best Features from each\n",
        "XGB1 = assemble_run(5,XGBClassifier)\n",
        "#Feature Subset by Union of 8 Best Features from each\n",
        "XGB2 = assemble_run(8,XGBClassifier)\n",
        "#Feature Subset by Union of 10 Best Features from each\n",
        "XGB3 = assemble_run(10,XGBClassifier)\n",
        "#Feature Subset by Union of 15 Best Features from each\n",
        "XGB4 = assemble_run(15,XGBClassifier)\n",
        "#Feature Subset by Union of 20 Best Features from each\n",
        "XGB5 = assemble_run(20,XGBClassifier)"
      ],
      "execution_count": null,
      "outputs": []
    },
    {
      "cell_type": "code",
      "metadata": {
        "id": "KQsGYnkjj48O"
      },
      "source": [
        "#KNN CLASSIFIER\n",
        "\n",
        "#Feature Subset by Union of 5 Best Features from each\n",
        "KNN1 = assemble_run(5,KNeighborsClassifier)\n",
        "#Feature Subset by Union of 8 Best Features from each\n",
        "KNN2 = assemble_run(8,KNeighborsClassifier)\n",
        "#Feature Subset by Union of 10 Best Features from each\n",
        "KNN3 = assemble_run(10,KNeighborsClassifier)\n",
        "#Feature Subset by Union of 15 Best Features from each\n",
        "KNN4 = assemble_run(15,KNeighborsClassifier)\n",
        "#Feature Subset by Union of 20 Best Features from each\n",
        "KNN5 = assemble_run(20,KNeighborsClassifier)\n"
      ],
      "execution_count": null,
      "outputs": []
    }
  ]
}