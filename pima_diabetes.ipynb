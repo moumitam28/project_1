{
  "nbformat": 4,
  "nbformat_minor": 0,
  "metadata": {
    "kernelspec": {
      "display_name": "Python 3",
      "language": "python",
      "name": "python3"
    },
    "language_info": {
      "codemirror_mode": {
        "name": "ipython",
        "version": 3
      },
      "file_extension": ".py",
      "mimetype": "text/x-python",
      "name": "python",
      "nbconvert_exporter": "python",
      "pygments_lexer": "ipython3",
      "version": "3.7.4"
    },
    "colab": {
      "name": "pima_diabetes.ipynb",
      "provenance": []
    }
  },
  "cells": [
    {
      "cell_type": "code",
      "metadata": {
        "id": "8uSHYigfjs3D"
      },
      "source": [
        "import pandas as pd\n",
        "import numpy as np"
      ],
      "execution_count": null,
      "outputs": []
    },
    {
      "cell_type": "code",
      "metadata": {
        "id": "F7-jV-v6js3M",
        "outputId": "d262c2d9-85a4-40db-8bea-eea2dc0f466a"
      },
      "source": [
        "data = pd.read_csv('diabetes.csv')\n",
        "data.head()"
      ],
      "execution_count": null,
      "outputs": [
        {
          "output_type": "execute_result",
          "data": {
            "text/html": [
              "<div>\n",
              "<style scoped>\n",
              "    .dataframe tbody tr th:only-of-type {\n",
              "        vertical-align: middle;\n",
              "    }\n",
              "\n",
              "    .dataframe tbody tr th {\n",
              "        vertical-align: top;\n",
              "    }\n",
              "\n",
              "    .dataframe thead th {\n",
              "        text-align: right;\n",
              "    }\n",
              "</style>\n",
              "<table border=\"1\" class=\"dataframe\">\n",
              "  <thead>\n",
              "    <tr style=\"text-align: right;\">\n",
              "      <th></th>\n",
              "      <th>Pregnancies</th>\n",
              "      <th>Glucose</th>\n",
              "      <th>BloodPressure</th>\n",
              "      <th>SkinThickness</th>\n",
              "      <th>Insulin</th>\n",
              "      <th>BMI</th>\n",
              "      <th>DiabetesPedigreeFunction</th>\n",
              "      <th>Age</th>\n",
              "      <th>Outcome</th>\n",
              "    </tr>\n",
              "  </thead>\n",
              "  <tbody>\n",
              "    <tr>\n",
              "      <td>0</td>\n",
              "      <td>6</td>\n",
              "      <td>148</td>\n",
              "      <td>72</td>\n",
              "      <td>35</td>\n",
              "      <td>0</td>\n",
              "      <td>33.6</td>\n",
              "      <td>0.627</td>\n",
              "      <td>50</td>\n",
              "      <td>1</td>\n",
              "    </tr>\n",
              "    <tr>\n",
              "      <td>1</td>\n",
              "      <td>1</td>\n",
              "      <td>85</td>\n",
              "      <td>66</td>\n",
              "      <td>29</td>\n",
              "      <td>0</td>\n",
              "      <td>26.6</td>\n",
              "      <td>0.351</td>\n",
              "      <td>31</td>\n",
              "      <td>0</td>\n",
              "    </tr>\n",
              "    <tr>\n",
              "      <td>2</td>\n",
              "      <td>8</td>\n",
              "      <td>183</td>\n",
              "      <td>64</td>\n",
              "      <td>0</td>\n",
              "      <td>0</td>\n",
              "      <td>23.3</td>\n",
              "      <td>0.672</td>\n",
              "      <td>32</td>\n",
              "      <td>1</td>\n",
              "    </tr>\n",
              "    <tr>\n",
              "      <td>3</td>\n",
              "      <td>1</td>\n",
              "      <td>89</td>\n",
              "      <td>66</td>\n",
              "      <td>23</td>\n",
              "      <td>94</td>\n",
              "      <td>28.1</td>\n",
              "      <td>0.167</td>\n",
              "      <td>21</td>\n",
              "      <td>0</td>\n",
              "    </tr>\n",
              "    <tr>\n",
              "      <td>4</td>\n",
              "      <td>0</td>\n",
              "      <td>137</td>\n",
              "      <td>40</td>\n",
              "      <td>35</td>\n",
              "      <td>168</td>\n",
              "      <td>43.1</td>\n",
              "      <td>2.288</td>\n",
              "      <td>33</td>\n",
              "      <td>1</td>\n",
              "    </tr>\n",
              "  </tbody>\n",
              "</table>\n",
              "</div>"
            ],
            "text/plain": [
              "   Pregnancies  Glucose  BloodPressure  SkinThickness  Insulin   BMI  \\\n",
              "0            6      148             72             35        0  33.6   \n",
              "1            1       85             66             29        0  26.6   \n",
              "2            8      183             64              0        0  23.3   \n",
              "3            1       89             66             23       94  28.1   \n",
              "4            0      137             40             35      168  43.1   \n",
              "\n",
              "   DiabetesPedigreeFunction  Age  Outcome  \n",
              "0                     0.627   50        1  \n",
              "1                     0.351   31        0  \n",
              "2                     0.672   32        1  \n",
              "3                     0.167   21        0  \n",
              "4                     2.288   33        1  "
            ]
          },
          "metadata": {
            "tags": []
          },
          "execution_count": 2
        }
      ]
    },
    {
      "cell_type": "code",
      "metadata": {
        "id": "KFOs30n2js3S",
        "outputId": "c5a4d959-94e4-477f-be00-0993a2dc4d00"
      },
      "source": [
        "data.isnull().sum()"
      ],
      "execution_count": null,
      "outputs": [
        {
          "output_type": "execute_result",
          "data": {
            "text/plain": [
              "Pregnancies                 0\n",
              "Glucose                     0\n",
              "BloodPressure               0\n",
              "SkinThickness               0\n",
              "Insulin                     0\n",
              "BMI                         0\n",
              "DiabetesPedigreeFunction    0\n",
              "Age                         0\n",
              "Outcome                     0\n",
              "dtype: int64"
            ]
          },
          "metadata": {
            "tags": []
          },
          "execution_count": 3
        }
      ]
    },
    {
      "cell_type": "code",
      "metadata": {
        "id": "7Hxz_HAcjs3Y",
        "outputId": "101cb009-76fe-4e52-bc6d-48adb3d9bda2"
      },
      "source": [
        "from sklearn.model_selection import train_test_split\n",
        "from numpy import mean\n",
        "from numpy import std\n",
        "from sklearn.datasets import make_classification\n",
        "from sklearn.model_selection import KFold\n",
        "from sklearn.model_selection import RepeatedKFold\n",
        "from sklearn.model_selection import cross_val_score\n",
        "\n",
        "\n",
        "\n",
        "X = data.drop(['Outcome'], axis=1)\n",
        "y = data.Outcome\n",
        "x_train, x_test, y_train, y_test = train_test_split(X,y,test_size=0.5)\n",
        "cv = KFold(n_splits=10, random_state=1, shuffle=True)\n",
        "cv1 = RepeatedKFold(n_splits=10, n_repeats=3, random_state=1)\n",
        "\n",
        "\n",
        "from sklearn.svm import SVC, LinearSVC\n",
        "from sklearn.ensemble import RandomForestClassifier\n",
        "from xgboost import XGBClassifier\n",
        "from sklearn.neighbors import KNeighborsClassifier\n",
        "\n",
        "SVM = SVC()\n",
        "RFC = RandomForestClassifier()\n",
        "XGB = XGBClassifier()\n",
        "KNN=KNeighborsClassifier()\n",
        "scores = cross_val_score(SVM, X, y, scoring='accuracy', cv=cv, n_jobs=-1)\n",
        "#scores1 = cross_val_score(SVM, X, y, scoring='accuracy', cv=cv1, n_jobs=-1)\n",
        "print('SVM Accuracy 10 fold: %.4f (%.3f)' % (mean(scores)*100, std(scores)))\n",
        "#print('SVM Accuracy Repeated 10 fold: %.3f (%.3f)' % (mean(scores1), std(scores1)))\n",
        "scores = cross_val_score(RFC, X, y, scoring='accuracy', cv=cv, n_jobs=-1)\n",
        "#scores1 = cross_val_score(RFC, X, y, scoring='accuracy', cv=cv1, n_jobs=-1)\n",
        "print('RFC Accuracy 10 fold: %.4f (%.3f)' % (mean(scores)*100, std(scores)))\n",
        "#print('RFC Accuracy Repeated 10 fold: %.3f (%.3f)' % (mean(scores1), std(scores1)))\n",
        "scores = cross_val_score(XGB, X, y, scoring='accuracy', cv=cv, n_jobs=-1)\n",
        "#scores1 = cross_val_score(XGB, X, y, scoring='accuracy', cv=cv1, n_jobs=-1)\n",
        "print('XGB Accuracy 10 fold: %.4f (%.3f)' % (mean(scores)*100, std(scores)))\n",
        "#print('XGB Accuracy Repeated 10 fold: %.3f (%.3f)' % (mean(scores1), std(scores1)))\n",
        "scores = cross_val_score(KNN, X, y, scoring='accuracy', cv=cv, n_jobs=-1)\n",
        "#scores1 = cross_val_score(KNN, X, y, scoring='accuracy', cv=cv1, n_jobs=-1)\n",
        "print('KNN Accuracy 10 fold: %.4f (%.3f)' % (mean(scores)*100, std(scores)))\n",
        "#print('KNN Accuracy Repeated 10 fold: %.3f (%.3f)' % (mean(scores1), std(scores1)))\n",
        "\n"
      ],
      "execution_count": null,
      "outputs": [
        {
          "output_type": "stream",
          "text": [
            "C:\\ProgramData\\Anaconda3\\lib\\site-packages\\distributed\\utils.py:133: RuntimeWarning: Couldn't detect a suitable IP address for reaching '8.8.8.8', defaulting to '127.0.0.1': [WinError 10051] A socket operation was attempted to an unreachable network\n",
            "  RuntimeWarning,\n"
          ],
          "name": "stderr"
        },
        {
          "output_type": "stream",
          "text": [
            "SVM Accuracy 10 fold: 65.0991 (0.033)\n",
            "RFC Accuracy 10 fold: 74.3387 (0.064)\n",
            "XGB Accuracy 10 fold: 73.5629 (0.051)\n",
            "KNN Accuracy 10 fold: 71.9959 (0.043)\n"
          ],
          "name": "stdout"
        }
      ]
    },
    {
      "cell_type": "code",
      "metadata": {
        "id": "IrQvxOHDjs3d",
        "outputId": "1fba6dce-f6a5-4878-810e-68ae91bd0f0b"
      },
      "source": [
        "#Chi-Square Test\n",
        "\n",
        "import scipy.stats as stats\n",
        "from scipy.stats import chi2\n",
        "\n",
        "def chi_sqr(test_column,output_column):\n",
        "    observed_value = pd.crosstab(test_column,output_column)\n",
        "    val = stats.chi2_contingency(observed_value)\n",
        "    expected_value=val[3]\n",
        "    no_of_rows=len(observed_value.iloc[0:2,0])\n",
        "    no_of_columns=len(observed_value.iloc[0,0:2])\n",
        "    dgof=(no_of_rows-1)*(no_of_columns-1)\n",
        "    alpha=0.05\n",
        "    for o,e in zip(observed_value.values,expected_value):\n",
        "        chi_2 = sum([(o-e)**2./e])       \n",
        "    chi2_stat = np.sum(chi_2)\n",
        "    return chi2_stat\n",
        "    \n",
        "df1 = data.drop(['Outcome'], axis=1)\n",
        "top_n1 =[]\n",
        "for i in df1.columns.values:\n",
        "    top_n1.append(chi_sqr(df1[i],data['Outcome']))\n",
        "    \n",
        "col_name1 = np.array(X.columns)\n",
        "a1 = pd.DataFrame(top_n1)\n",
        "b1 = pd.DataFrame(col_name1)\n",
        "info1 = pd.concat([a1,b1], axis=1)\n",
        "info1.columns = ['Score','Features']\n",
        "\n",
        "top1 = info1.nsmallest(5,'Score')\n",
        "ft1 = np.array(top1['Features'])\n",
        "top1\n",
        "ft1"
      ],
      "execution_count": null,
      "outputs": [
        {
          "output_type": "execute_result",
          "data": {
            "text/plain": [
              "array(['BloodPressure', 'Age', 'Pregnancies', 'Glucose', 'SkinThickness'],\n",
              "      dtype=object)"
            ]
          },
          "metadata": {
            "tags": []
          },
          "execution_count": 5
        }
      ]
    },
    {
      "cell_type": "code",
      "metadata": {
        "id": "t-ngNLw8js3i",
        "outputId": "68c00702-4ec0-4a26-a726-3d054b17fb38"
      },
      "source": [
        "#ReliefF\n",
        "\n",
        "from sklearn.pipeline import make_pipeline\n",
        "from skrebate import ReliefF\n",
        "\n",
        "features, classes = data.drop('Outcome', axis=1).values, data['Outcome'].values\n",
        "X_train, X_test, y_train, y_test = train_test_split(features, classes)\n",
        "\n",
        "arr = X_train.astype('float64')\n",
        "fs = ReliefF()\n",
        "fs.fit(arr, y_train)\n",
        "\n",
        "top_n2=[]\n",
        "names=[]\n",
        "for feature_name, feature_score in zip(data.drop('Outcome', axis=1).columns, fs.feature_importances_):\n",
        "    top_n2.append(feature_score)\n",
        "    names.append(feature_name)\n",
        "    \n",
        "col_name3 = np.array(data.columns)\n",
        "a3 = pd.DataFrame(top_n2)\n",
        "b3 = pd.DataFrame(names)\n",
        "\n",
        "info3 = pd.concat([a3,b3], axis=1)\n",
        "info3.columns = ['Score','Features'] \n",
        "\n",
        "top3 = info3.nlargest(5,'Score')\n",
        "ft3 = np.array(top3['Features'])\n",
        "ft3"
      ],
      "execution_count": null,
      "outputs": [
        {
          "output_type": "execute_result",
          "data": {
            "text/plain": [
              "array(['Glucose', 'Age', 'Pregnancies', 'BMI', 'SkinThickness'],\n",
              "      dtype=object)"
            ]
          },
          "metadata": {
            "tags": []
          },
          "execution_count": 6
        }
      ]
    },
    {
      "cell_type": "code",
      "metadata": {
        "id": "9tuo7PBYjs3n",
        "outputId": "08c2c7db-8c5f-4e60-ac74-ce7e2e0055e1"
      },
      "source": [
        "#Information Gain/Mutual Information\n",
        "\n",
        "from sklearn.feature_selection import mutual_info_classif\n",
        "\n",
        "res = mutual_info_classif(X,y,discrete_features=True)\n",
        "\n",
        "col_name2 = np.array(X.columns)\n",
        "\n",
        "a2 = pd.DataFrame(res)\n",
        "b2 = pd.DataFrame(col_name2)\n",
        "info2 = pd.concat([a2,b2], axis=1)\n",
        "info2.columns = ['Info_Gain','Features']\n",
        "\n",
        "top2 = info2.nlargest(5,'Info_Gain')\n",
        "ft2 = np.array(top2['Features'])\n",
        "ft2"
      ],
      "execution_count": null,
      "outputs": [
        {
          "output_type": "execute_result",
          "data": {
            "text/plain": [
              "array(['DiabetesPedigreeFunction', 'BMI', 'Glucose', 'Insulin', 'Age'],\n",
              "      dtype=object)"
            ]
          },
          "metadata": {
            "tags": []
          },
          "execution_count": 7
        }
      ]
    },
    {
      "cell_type": "code",
      "metadata": {
        "id": "DUcK5Rh-js3v"
      },
      "source": [
        "from functools import reduce\n",
        "def top_fs_union(n):\n",
        "    f1 = ft1[:n]\n",
        "    f2 = ft2[:n]\n",
        "    f3 = ft3[:n]\n",
        "    return(reduce(np.union1d, (f1,f2,f3)))"
      ],
      "execution_count": null,
      "outputs": []
    },
    {
      "cell_type": "code",
      "metadata": {
        "id": "fgNsgPisjs30"
      },
      "source": [
        "def assemble_run(n,classifier):\n",
        "  top_fs=top_fs_union(n)\n",
        "  top_fs=np.append(top_fs,['Outcome'], axis=0)\n",
        "  dfs = data.loc[:,top_fs]\n",
        "  X = dfs.drop(['Outcome'], axis=1)\n",
        "  y = dfs['Outcome']\n",
        "  model = classifier()\n",
        "  scores = cross_val_score(model, X, y, scoring='accuracy', cv=cv, n_jobs=-1)\n",
        "  print('Accuracy 10 fold: %.4f (%.3f)' % (mean(scores)*100, std(scores)))\n"
      ],
      "execution_count": null,
      "outputs": []
    },
    {
      "cell_type": "code",
      "metadata": {
        "id": "jWcxY0UPjs34",
        "outputId": "9b970ac2-3600-4694-90f3-e1728b5e19a3"
      },
      "source": [
        "#SUPPORT VECTOR MACHINE\n",
        "\n",
        "#Feature Subset by Union of 5 Best Features from each\n",
        "SVM1 = assemble_run(5,SVC)\n",
        "SVM2 = assemble_run(8,SVC)\n",
        "SVM3 = assemble_run(10,SVC)\n"
      ],
      "execution_count": null,
      "outputs": [
        {
          "output_type": "stream",
          "text": [
            "Accuracy 10 fold: 65.0991 (0.033)\n",
            "Accuracy 10 fold: 65.0991 (0.033)\n",
            "Accuracy 10 fold: 65.0991 (0.033)\n"
          ],
          "name": "stdout"
        }
      ]
    },
    {
      "cell_type": "code",
      "metadata": {
        "id": "tkxm52efjs3-",
        "outputId": "63018e6d-9102-45e7-cd69-ccb20f7c1021"
      },
      "source": [
        "#RANDOM FOREST CLASSIFIER\n",
        "\n",
        "#Feature Subset by Union of 5 Best Features from each\n",
        "RFC1 = assemble_run(5,RandomForestClassifier)\n",
        "RFC2 = assemble_run(8,RandomForestClassifier)\n",
        "RFC3 = assemble_run(10,RandomForestClassifier)\n"
      ],
      "execution_count": null,
      "outputs": [
        {
          "output_type": "stream",
          "text": [
            "Accuracy 10 fold: 74.4771 (0.044)\n",
            "Accuracy 10 fold: 73.9593 (0.055)\n",
            "Accuracy 10 fold: 74.3455 (0.061)\n"
          ],
          "name": "stdout"
        }
      ]
    },
    {
      "cell_type": "code",
      "metadata": {
        "id": "Q2H6YxCwjs4E",
        "outputId": "6a20434a-f848-42cc-c1ad-245fb7475112"
      },
      "source": [
        "#XG BOOST CLASSIFIER\n",
        "\n",
        "#Feature Subset by Union of 5 Best Features from each\n",
        "XGB1 = assemble_run(5,XGBClassifier)\n",
        "XGB2 = assemble_run(8,XGBClassifier)\n",
        "XGB3 = assemble_run(10,XGBClassifier)\n"
      ],
      "execution_count": null,
      "outputs": [
        {
          "output_type": "stream",
          "text": [
            "Accuracy 10 fold: 72.6504 (0.054)\n",
            "Accuracy 10 fold: 72.6504 (0.054)\n",
            "Accuracy 10 fold: 72.6504 (0.054)\n"
          ],
          "name": "stdout"
        }
      ]
    },
    {
      "cell_type": "code",
      "metadata": {
        "id": "XzKAljkTjs4J",
        "outputId": "9187f771-6980-485a-b40a-a0039993fd4e"
      },
      "source": [
        "#KNN CLASSIFIER\n",
        "\n",
        "#Feature Subset by Union of 5 Best Features from each\n",
        "KNN1 = assemble_run(5,KNeighborsClassifier)\n",
        "KNN1 = assemble_run(5,KNeighborsClassifier)\n",
        "KNN1 = assemble_run(5,KNeighborsClassifier)\n"
      ],
      "execution_count": null,
      "outputs": [
        {
          "output_type": "stream",
          "text": [
            "Accuracy 10 fold: 71.9959 (0.043)\n",
            "Accuracy 10 fold: 71.9959 (0.043)\n",
            "Accuracy 10 fold: 71.9959 (0.043)\n"
          ],
          "name": "stdout"
        }
      ]
    },
    {
      "cell_type": "code",
      "metadata": {
        "id": "RHGj3MmTjs4O"
      },
      "source": [
        "def top_fs_int(n):\n",
        "    f1 = ft1[:n]\n",
        "    f2 = ft2[:n]\n",
        "    f3 = ft3[:n]\n",
        "    return(reduce(np.intersect1d, (f1,f2,f3)))"
      ],
      "execution_count": null,
      "outputs": []
    },
    {
      "cell_type": "code",
      "metadata": {
        "id": "gm08GVzEjs4T"
      },
      "source": [
        "def assemble_run(n,classifier):\n",
        "  top_fs=top_fs_int(n)\n",
        "  top_fs=np.append(top_fs,['Outcome'], axis=0)\n",
        "  dfs = data.loc[:,top_fs]\n",
        "  X = dfs.drop(['Outcome'], axis=1)\n",
        "  y = dfs['Outcome']\n",
        "  model = classifier()\n",
        "  scores = cross_val_score(model, X, y, scoring='accuracy', cv=cv, n_jobs=-1)\n",
        "  print('Accuracy 10 fold: %.4f (%.3f)' % (mean(scores)*100, std(scores)))\n"
      ],
      "execution_count": null,
      "outputs": []
    },
    {
      "cell_type": "code",
      "metadata": {
        "id": "76lnfmwdjs4X",
        "outputId": "ae4f4069-63cd-46ca-9d1f-dca81e0d3acd"
      },
      "source": [
        "#SUPPORT VECTOR MACHINE\n",
        "\n",
        "#Feature Subset by Intersection of 5 Best Features from each\n",
        "SVM1 = assemble_run(5,SVC)\n",
        "SVM2 = assemble_run(8,SVC)\n",
        "SVM3 = assemble_run(10,SVC)\n"
      ],
      "execution_count": null,
      "outputs": [
        {
          "output_type": "stream",
          "text": [
            "Accuracy 10 fold: 63.2673 (0.047)\n",
            "Accuracy 10 fold: 63.2673 (0.047)\n",
            "Accuracy 10 fold: 63.2673 (0.047)\n"
          ],
          "name": "stdout"
        }
      ]
    },
    {
      "cell_type": "code",
      "metadata": {
        "id": "EkV2WKXgjs4b",
        "outputId": "f510ec2c-9762-4415-825c-0f82acd965ce"
      },
      "source": [
        "#RANDOM FOREST CLASSIFIER\n",
        "\n",
        "#Feature Subset by Intersection of 5 Best Features from each\n",
        "RFC1 = assemble_run(5,RandomForestClassifier)\n",
        "RFC2 = assemble_run(8,RandomForestClassifier)\n",
        "RFC3 = assemble_run(10,RandomForestClassifier)\n"
      ],
      "execution_count": null,
      "outputs": [
        {
          "output_type": "stream",
          "text": [
            "Accuracy 10 fold: 68.8807 (0.044)\n",
            "Accuracy 10 fold: 68.3612 (0.038)\n",
            "Accuracy 10 fold: 68.7423 (0.046)\n"
          ],
          "name": "stdout"
        }
      ]
    },
    {
      "cell_type": "code",
      "metadata": {
        "id": "GfZKDUL7js4f",
        "outputId": "37a048e9-5230-43f0-e937-0bdeead11d24"
      },
      "source": [
        "#XG BOOST CLASSIFIER\n",
        "\n",
        "#Feature Subset by Intersection of 5 Best Features from each\n",
        "XGB1 = assemble_run(5,XGBClassifier)\n",
        "XGB2 = assemble_run(8,XGBClassifier)\n",
        "XGB3 = assemble_run(10,XGBClassifier)\n"
      ],
      "execution_count": null,
      "outputs": [
        {
          "output_type": "stream",
          "text": [
            "Accuracy 10 fold: 69.7915 (0.037)\n",
            "Accuracy 10 fold: 69.7915 (0.037)\n",
            "Accuracy 10 fold: 69.7915 (0.037)\n"
          ],
          "name": "stdout"
        }
      ]
    },
    {
      "cell_type": "code",
      "metadata": {
        "id": "1dlv-V7Ljs4j",
        "outputId": "b72a1b79-a019-4249-9181-b306e1e9fe74"
      },
      "source": [
        "#KNN CLASSIFIER\n",
        "\n",
        "#Feature Subset by Intersection of 5 Best Features from each\n",
        "KNN1 = assemble_run(5,KNeighborsClassifier)\n",
        "KNN1 = assemble_run(5,KNeighborsClassifier)\n",
        "KNN1 = assemble_run(5,KNeighborsClassifier)\n"
      ],
      "execution_count": null,
      "outputs": [
        {
          "output_type": "stream",
          "text": [
            "Accuracy 10 fold: 70.9484 (0.058)\n",
            "Accuracy 10 fold: 70.9484 (0.058)\n",
            "Accuracy 10 fold: 70.9484 (0.058)\n"
          ],
          "name": "stdout"
        }
      ]
    },
    {
      "cell_type": "code",
      "metadata": {
        "id": "uDRyDTEGjs4o"
      },
      "source": [
        ""
      ],
      "execution_count": null,
      "outputs": []
    }
  ]
}