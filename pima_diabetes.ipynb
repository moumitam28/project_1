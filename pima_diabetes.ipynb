{
  "nbformat": 4,
  "nbformat_minor": 0,
  "metadata": {
    "kernelspec": {
      "display_name": "Python 3",
      "language": "python",
      "name": "python3"
    },
    "language_info": {
      "codemirror_mode": {
        "name": "ipython",
        "version": 3
      },
      "file_extension": ".py",
      "mimetype": "text/x-python",
      "name": "python",
      "nbconvert_exporter": "python",
      "pygments_lexer": "ipython3",
      "version": "3.7.4"
    },
    "colab": {
      "name": "pima_diabetes.ipynb",
      "provenance": [],
      "collapsed_sections": []
    }
  },
  "cells": [
    {
      "cell_type": "markdown",
      "metadata": {
        "id": "r56v_rILM1C8"
      },
      "source": [
        "#Data import and Preprocessing"
      ]
    },
    {
      "cell_type": "code",
      "metadata": {
        "id": "cIvBvaStmDWD"
      },
      "source": [
        "import pandas as pd\n",
        "import numpy as np"
      ],
      "execution_count": 1,
      "outputs": []
    },
    {
      "cell_type": "code",
      "metadata": {
        "id": "6KD3EkcKmDWN",
        "outputId": "151c832b-d6e9-4773-d74d-41d910bcf5e6",
        "colab": {
          "base_uri": "https://localhost:8080/",
          "height": 224
        }
      },
      "source": [
        "data = pd.read_csv('diabetes.csv')\n",
        "data.head()"
      ],
      "execution_count": 15,
      "outputs": [
        {
          "output_type": "execute_result",
          "data": {
            "text/html": [
              "<div>\n",
              "<style scoped>\n",
              "    .dataframe tbody tr th:only-of-type {\n",
              "        vertical-align: middle;\n",
              "    }\n",
              "\n",
              "    .dataframe tbody tr th {\n",
              "        vertical-align: top;\n",
              "    }\n",
              "\n",
              "    .dataframe thead th {\n",
              "        text-align: right;\n",
              "    }\n",
              "</style>\n",
              "<table border=\"1\" class=\"dataframe\">\n",
              "  <thead>\n",
              "    <tr style=\"text-align: right;\">\n",
              "      <th></th>\n",
              "      <th>Pregnancies</th>\n",
              "      <th>Glucose</th>\n",
              "      <th>BloodPressure</th>\n",
              "      <th>SkinThickness</th>\n",
              "      <th>Insulin</th>\n",
              "      <th>BMI</th>\n",
              "      <th>DiabetesPedigreeFunction</th>\n",
              "      <th>Age</th>\n",
              "      <th>Outcome</th>\n",
              "    </tr>\n",
              "  </thead>\n",
              "  <tbody>\n",
              "    <tr>\n",
              "      <th>0</th>\n",
              "      <td>6</td>\n",
              "      <td>148</td>\n",
              "      <td>72</td>\n",
              "      <td>35</td>\n",
              "      <td>0</td>\n",
              "      <td>33.6</td>\n",
              "      <td>0.627</td>\n",
              "      <td>50</td>\n",
              "      <td>1</td>\n",
              "    </tr>\n",
              "    <tr>\n",
              "      <th>1</th>\n",
              "      <td>1</td>\n",
              "      <td>85</td>\n",
              "      <td>66</td>\n",
              "      <td>29</td>\n",
              "      <td>0</td>\n",
              "      <td>26.6</td>\n",
              "      <td>0.351</td>\n",
              "      <td>31</td>\n",
              "      <td>0</td>\n",
              "    </tr>\n",
              "    <tr>\n",
              "      <th>2</th>\n",
              "      <td>8</td>\n",
              "      <td>183</td>\n",
              "      <td>64</td>\n",
              "      <td>0</td>\n",
              "      <td>0</td>\n",
              "      <td>23.3</td>\n",
              "      <td>0.672</td>\n",
              "      <td>32</td>\n",
              "      <td>1</td>\n",
              "    </tr>\n",
              "    <tr>\n",
              "      <th>3</th>\n",
              "      <td>1</td>\n",
              "      <td>89</td>\n",
              "      <td>66</td>\n",
              "      <td>23</td>\n",
              "      <td>94</td>\n",
              "      <td>28.1</td>\n",
              "      <td>0.167</td>\n",
              "      <td>21</td>\n",
              "      <td>0</td>\n",
              "    </tr>\n",
              "    <tr>\n",
              "      <th>4</th>\n",
              "      <td>0</td>\n",
              "      <td>137</td>\n",
              "      <td>40</td>\n",
              "      <td>35</td>\n",
              "      <td>168</td>\n",
              "      <td>43.1</td>\n",
              "      <td>2.288</td>\n",
              "      <td>33</td>\n",
              "      <td>1</td>\n",
              "    </tr>\n",
              "  </tbody>\n",
              "</table>\n",
              "</div>"
            ],
            "text/plain": [
              "   Pregnancies  Glucose  BloodPressure  ...  DiabetesPedigreeFunction  Age  Outcome\n",
              "0            6      148             72  ...                     0.627   50        1\n",
              "1            1       85             66  ...                     0.351   31        0\n",
              "2            8      183             64  ...                     0.672   32        1\n",
              "3            1       89             66  ...                     0.167   21        0\n",
              "4            0      137             40  ...                     2.288   33        1\n",
              "\n",
              "[5 rows x 9 columns]"
            ]
          },
          "metadata": {
            "tags": []
          },
          "execution_count": 15
        }
      ]
    },
    {
      "cell_type": "code",
      "metadata": {
        "id": "thh8oznJmDWU",
        "outputId": "9639577c-f68f-4ac1-b621-deb421e7c1a4",
        "colab": {
          "base_uri": "https://localhost:8080/"
        }
      },
      "source": [
        "data.isnull().sum()"
      ],
      "execution_count": 16,
      "outputs": [
        {
          "output_type": "execute_result",
          "data": {
            "text/plain": [
              "Pregnancies                 0\n",
              "Glucose                     0\n",
              "BloodPressure               0\n",
              "SkinThickness               0\n",
              "Insulin                     0\n",
              "BMI                         0\n",
              "DiabetesPedigreeFunction    0\n",
              "Age                         0\n",
              "Outcome                     0\n",
              "dtype: int64"
            ]
          },
          "metadata": {
            "tags": []
          },
          "execution_count": 16
        }
      ]
    },
    {
      "cell_type": "markdown",
      "metadata": {
        "id": "wTJL036jNDFW"
      },
      "source": [
        "*Replacing 0 values*"
      ]
    },
    {
      "cell_type": "code",
      "metadata": {
        "id": "W1R1CEFlFn8x"
      },
      "source": [
        "df1 = data.loc[data['Outcome'] == 1]\n",
        "df2 = data.loc[data['Outcome'] == 0]\n",
        "df1 = df1.replace({'BloodPressure':0}, np.median(df1['BloodPressure']))\n",
        "df1 = df1.replace({'BMI':0}, np.median(df1['BMI']))\n",
        "df1 = df1.replace({'Glucose':0}, np.median(df1['Glucose']))\n",
        "df1 = df1.replace({'Insulin':0}, np.median(df1['Insulin']))\n",
        "df1 = df1.replace({'SkinThickness':0}, np.median(df1['SkinThickness']))\n",
        "df2 = df2.replace({'BloodPressure':0}, np.median(df2['BloodPressure']))\n",
        "df2 = df2.replace({'BMI':0}, np.median(df2['BMI']))\n",
        "df2 = df2.replace({'Glucose':0}, np.median(df2['Glucose']))\n",
        "df2 = df2.replace({'Insulin':0}, np.median(df2['Insulin']))\n",
        "df2 = df2.replace({'SkinThickness':0}, np.median(df2['SkinThickness']))\n",
        "\n",
        "\n",
        "dataframe = [df1, df2]\n",
        "data = pd.concat(dataframe)"
      ],
      "execution_count": 18,
      "outputs": []
    },
    {
      "cell_type": "code",
      "metadata": {
        "id": "_WrwR3HTF09i",
        "outputId": "39fa931e-5b31-4657-fb4e-9e8fc2e82d94",
        "colab": {
          "base_uri": "https://localhost:8080/",
          "height": 317
        }
      },
      "source": [
        "data.head()\n",
        "data.describe()"
      ],
      "execution_count": 19,
      "outputs": [
        {
          "output_type": "execute_result",
          "data": {
            "text/html": [
              "<div>\n",
              "<style scoped>\n",
              "    .dataframe tbody tr th:only-of-type {\n",
              "        vertical-align: middle;\n",
              "    }\n",
              "\n",
              "    .dataframe tbody tr th {\n",
              "        vertical-align: top;\n",
              "    }\n",
              "\n",
              "    .dataframe thead th {\n",
              "        text-align: right;\n",
              "    }\n",
              "</style>\n",
              "<table border=\"1\" class=\"dataframe\">\n",
              "  <thead>\n",
              "    <tr style=\"text-align: right;\">\n",
              "      <th></th>\n",
              "      <th>Pregnancies</th>\n",
              "      <th>Glucose</th>\n",
              "      <th>BloodPressure</th>\n",
              "      <th>SkinThickness</th>\n",
              "      <th>Insulin</th>\n",
              "      <th>BMI</th>\n",
              "      <th>DiabetesPedigreeFunction</th>\n",
              "      <th>Age</th>\n",
              "      <th>Outcome</th>\n",
              "    </tr>\n",
              "  </thead>\n",
              "  <tbody>\n",
              "    <tr>\n",
              "      <th>count</th>\n",
              "      <td>768.000000</td>\n",
              "      <td>768.000000</td>\n",
              "      <td>768.000000</td>\n",
              "      <td>768.00000</td>\n",
              "      <td>768.000000</td>\n",
              "      <td>768.000000</td>\n",
              "      <td>768.000000</td>\n",
              "      <td>768.000000</td>\n",
              "      <td>768.000000</td>\n",
              "    </tr>\n",
              "    <tr>\n",
              "      <th>mean</th>\n",
              "      <td>3.845052</td>\n",
              "      <td>121.677083</td>\n",
              "      <td>72.378906</td>\n",
              "      <td>27.43099</td>\n",
              "      <td>91.783854</td>\n",
              "      <td>32.433919</td>\n",
              "      <td>0.471876</td>\n",
              "      <td>33.240885</td>\n",
              "      <td>0.348958</td>\n",
              "    </tr>\n",
              "    <tr>\n",
              "      <th>std</th>\n",
              "      <td>3.369578</td>\n",
              "      <td>30.464161</td>\n",
              "      <td>12.104431</td>\n",
              "      <td>9.32146</td>\n",
              "      <td>108.121136</td>\n",
              "      <td>6.880664</td>\n",
              "      <td>0.331329</td>\n",
              "      <td>11.760232</td>\n",
              "      <td>0.476951</td>\n",
              "    </tr>\n",
              "    <tr>\n",
              "      <th>min</th>\n",
              "      <td>0.000000</td>\n",
              "      <td>44.000000</td>\n",
              "      <td>24.000000</td>\n",
              "      <td>7.00000</td>\n",
              "      <td>0.000000</td>\n",
              "      <td>18.200000</td>\n",
              "      <td>0.078000</td>\n",
              "      <td>21.000000</td>\n",
              "      <td>0.000000</td>\n",
              "    </tr>\n",
              "    <tr>\n",
              "      <th>25%</th>\n",
              "      <td>1.000000</td>\n",
              "      <td>99.750000</td>\n",
              "      <td>64.000000</td>\n",
              "      <td>21.00000</td>\n",
              "      <td>39.000000</td>\n",
              "      <td>27.500000</td>\n",
              "      <td>0.243750</td>\n",
              "      <td>24.000000</td>\n",
              "      <td>0.000000</td>\n",
              "    </tr>\n",
              "    <tr>\n",
              "      <th>50%</th>\n",
              "      <td>3.000000</td>\n",
              "      <td>117.000000</td>\n",
              "      <td>72.000000</td>\n",
              "      <td>27.00000</td>\n",
              "      <td>39.000000</td>\n",
              "      <td>32.050000</td>\n",
              "      <td>0.372500</td>\n",
              "      <td>29.000000</td>\n",
              "      <td>0.000000</td>\n",
              "    </tr>\n",
              "    <tr>\n",
              "      <th>75%</th>\n",
              "      <td>6.000000</td>\n",
              "      <td>140.250000</td>\n",
              "      <td>80.000000</td>\n",
              "      <td>32.00000</td>\n",
              "      <td>127.250000</td>\n",
              "      <td>36.600000</td>\n",
              "      <td>0.626250</td>\n",
              "      <td>41.000000</td>\n",
              "      <td>1.000000</td>\n",
              "    </tr>\n",
              "    <tr>\n",
              "      <th>max</th>\n",
              "      <td>17.000000</td>\n",
              "      <td>199.000000</td>\n",
              "      <td>122.000000</td>\n",
              "      <td>99.00000</td>\n",
              "      <td>846.000000</td>\n",
              "      <td>67.100000</td>\n",
              "      <td>2.420000</td>\n",
              "      <td>81.000000</td>\n",
              "      <td>1.000000</td>\n",
              "    </tr>\n",
              "  </tbody>\n",
              "</table>\n",
              "</div>"
            ],
            "text/plain": [
              "       Pregnancies     Glucose  ...         Age     Outcome\n",
              "count   768.000000  768.000000  ...  768.000000  768.000000\n",
              "mean      3.845052  121.677083  ...   33.240885    0.348958\n",
              "std       3.369578   30.464161  ...   11.760232    0.476951\n",
              "min       0.000000   44.000000  ...   21.000000    0.000000\n",
              "25%       1.000000   99.750000  ...   24.000000    0.000000\n",
              "50%       3.000000  117.000000  ...   29.000000    0.000000\n",
              "75%       6.000000  140.250000  ...   41.000000    1.000000\n",
              "max      17.000000  199.000000  ...   81.000000    1.000000\n",
              "\n",
              "[8 rows x 9 columns]"
            ]
          },
          "metadata": {
            "tags": []
          },
          "execution_count": 19
        }
      ]
    },
    {
      "cell_type": "markdown",
      "metadata": {
        "id": "F2u-uu3lL0JA"
      },
      "source": [
        "*Balancing Minority Class Data*"
      ]
    },
    {
      "cell_type": "code",
      "metadata": {
        "id": "o9B6lmRTDxu_",
        "outputId": "2f7fa3c2-b9cd-4855-fa66-71618a84f085",
        "colab": {
          "base_uri": "https://localhost:8080/"
        }
      },
      "source": [
        " data.Outcome.value_counts()"
      ],
      "execution_count": null,
      "outputs": [
        {
          "output_type": "execute_result",
          "data": {
            "text/plain": [
              "0    500\n",
              "1    268\n",
              "Name: Outcome, dtype: int64"
            ]
          },
          "metadata": {
            "tags": []
          },
          "execution_count": 17
        }
      ]
    },
    {
      "cell_type": "code",
      "metadata": {
        "id": "Xf4aYQyvKjCc",
        "outputId": "a48efcfd-835f-4362-af30-62fbe09bbbe3",
        "colab": {
          "base_uri": "https://localhost:8080/"
        }
      },
      "source": [
        "pip install imbalanced-learn"
      ],
      "execution_count": 23,
      "outputs": [
        {
          "output_type": "stream",
          "text": [
            "Requirement already satisfied: imbalanced-learn in /usr/local/lib/python3.6/dist-packages (0.4.3)\n",
            "Requirement already satisfied: numpy>=1.8.2 in /usr/local/lib/python3.6/dist-packages (from imbalanced-learn) (1.18.5)\n",
            "Requirement already satisfied: scipy>=0.13.3 in /usr/local/lib/python3.6/dist-packages (from imbalanced-learn) (1.4.1)\n",
            "Requirement already satisfied: scikit-learn>=0.20 in /usr/local/lib/python3.6/dist-packages (from imbalanced-learn) (0.22.2.post1)\n",
            "Requirement already satisfied: joblib>=0.11 in /usr/local/lib/python3.6/dist-packages (from scikit-learn>=0.20->imbalanced-learn) (0.17.0)\n"
          ],
          "name": "stdout"
        }
      ]
    },
    {
      "cell_type": "code",
      "metadata": {
        "id": "e2Dmlyd9K7hl",
        "outputId": "c4f1ec08-1f51-459a-f095-7412d6b3e437",
        "colab": {
          "base_uri": "https://localhost:8080/"
        }
      },
      "source": [
        "from collections import Counter\n",
        "from imblearn.over_sampling import SMOTE\n",
        "oversample = SMOTE()\n",
        "X = data.drop(['Outcome'], axis=1)\n",
        "y = data['Outcome']\n",
        "counter = Counter(y)\n",
        "print(counter)\n",
        "X, y = oversample.fit_resample(X, y)\n",
        "# summarize the new class distribution\n",
        "counter = Counter(y)\n",
        "print(counter)\n"
      ],
      "execution_count": 22,
      "outputs": [
        {
          "output_type": "stream",
          "text": [
            "Counter({0: 500, 1: 268})\n",
            "Counter({1: 500, 0: 500})\n"
          ],
          "name": "stdout"
        },
        {
          "output_type": "stream",
          "text": [
            "/usr/local/lib/python3.6/dist-packages/sklearn/utils/deprecation.py:87: FutureWarning: Function safe_indexing is deprecated; safe_indexing is deprecated in version 0.22 and will be removed in version 0.24.\n",
            "  warnings.warn(msg, category=FutureWarning)\n"
          ],
          "name": "stderr"
        }
      ]
    },
    {
      "cell_type": "markdown",
      "metadata": {
        "id": "lwZc_DYgNdlr"
      },
      "source": [
        "#Running 10 fold CV without any filter"
      ]
    },
    {
      "cell_type": "code",
      "metadata": {
        "id": "rQfQxz_6mDWZ",
        "outputId": "967ec8f8-bab6-4b2d-af9f-fbadce47a4a2",
        "colab": {
          "base_uri": "https://localhost:8080/"
        }
      },
      "source": [
        "from sklearn.model_selection import train_test_split\n",
        "from numpy import mean\n",
        "from numpy import std\n",
        "from sklearn.datasets import make_classification\n",
        "from sklearn.model_selection import KFold\n",
        "from sklearn.model_selection import RepeatedKFold\n",
        "from sklearn.model_selection import cross_val_score\n",
        "\n",
        "\n",
        "\n",
        "X = data.drop(['Outcome'], axis=1)\n",
        "y = data.Outcome\n",
        "x_train, x_test, y_train, y_test = train_test_split(X,y,test_size=0.5)\n",
        "cv = KFold(n_splits=10, random_state=1, shuffle=True)\n",
        "cv1 = RepeatedKFold(n_splits=10, n_repeats=3, random_state=1)\n",
        "\n",
        "\n",
        "from sklearn.svm import SVC, LinearSVC\n",
        "from sklearn.ensemble import RandomForestClassifier\n",
        "from xgboost import XGBClassifier\n",
        "from sklearn.neighbors import KNeighborsClassifier\n",
        "from sklearn.naive_bayes import GaussianNB\n",
        "\n",
        "\n",
        "SVM = SVC()\n",
        "RFC = RandomForestClassifier()\n",
        "XGB = XGBClassifier()\n",
        "KNN=KNeighborsClassifier()\n",
        "NB=GaussianNB()\n",
        "\n",
        "scores = cross_val_score(SVM, X, y, scoring='accuracy', cv=cv, n_jobs=-1)\n",
        "#scores1 = cross_val_score(SVM, X, y, scoring='accuracy', cv=cv1, n_jobs=-1)\n",
        "print('SVM Accuracy 10 fold: %.4f (%.3f)' % (mean(scores)*100, std(scores)))\n",
        "#print('SVM Accuracy Repeated 10 fold: %.3f (%.3f)' % (mean(scores1), std(scores1)))\n",
        "scores = cross_val_score(RFC, X, y, scoring='accuracy', cv=cv, n_jobs=-1)\n",
        "#scores1 = cross_val_score(RFC, X, y, scoring='accuracy', cv=cv1, n_jobs=-1)\n",
        "print('RFC Accuracy 10 fold: %.4f (%.3f)' % (mean(scores)*100, std(scores)))\n",
        "#print('RFC Accuracy Repeated 10 fold: %.3f (%.3f)' % (mean(scores1), std(scores1)))\n",
        "scores = cross_val_score(XGB, X, y, scoring='accuracy', cv=cv, n_jobs=-1)\n",
        "#scores1 = cross_val_score(XGB, X, y, scoring='accuracy', cv=cv1, n_jobs=-1)\n",
        "print('XGB Accuracy 10 fold: %.4f (%.3f)' % (mean(scores)*100, std(scores)))\n",
        "#print('XGB Accuracy Repeated 10 fold: %.3f (%.3f)' % (mean(scores1), std(scores1)))\n",
        "scores = cross_val_score(KNN, X, y, scoring='accuracy', cv=cv, n_jobs=-1)\n",
        "#scores1 = cross_val_score(KNN, X, y, scoring='accuracy', cv=cv1, n_jobs=-1)\n",
        "print('KNN Accuracy 10 fold: %.4f (%.3f)' % (mean(scores)*100, std(scores)))\n",
        "#print('KNN Accuracy Repeated 10 fold: %.3f (%.3f)' % (mean(scores1), std(scores1)))\n",
        "scores = cross_val_score(NB, X, y, scoring='accuracy', cv=cv, n_jobs=-1)\n",
        "print('Naive Bayes Accuracy 10 fold: %.4f (%.3f)' % (mean(scores)*100, std(scores)))\n",
        "\n"
      ],
      "execution_count": 29,
      "outputs": [
        {
          "output_type": "stream",
          "text": [
            "SVM Accuracy 10 fold: 86.8524 (0.034)\n",
            "RFC Accuracy 10 fold: 89.0721 (0.028)\n",
            "XGB Accuracy 10 fold: 89.2037 (0.026)\n",
            "KNN Accuracy 10 fold: 85.6835 (0.029)\n",
            "Naive Bayes Accuracy 10 fold: 75.5212 (0.025)\n"
          ],
          "name": "stdout"
        }
      ]
    },
    {
      "cell_type": "markdown",
      "metadata": {
        "id": "KNY2FupBPUyh"
      },
      "source": [
        "#Filter Assembling "
      ]
    },
    {
      "cell_type": "markdown",
      "metadata": {
        "id": "JHeHx5FDPfIx"
      },
      "source": [
        "*CHI-SQUARE*"
      ]
    },
    {
      "cell_type": "code",
      "metadata": {
        "id": "2XJExgeimDWe",
        "outputId": "f1510b03-e8eb-45e4-b07c-3858b93cba29",
        "colab": {
          "base_uri": "https://localhost:8080/"
        }
      },
      "source": [
        "#Chi-Square Test\n",
        "\n",
        "import scipy.stats as stats\n",
        "from scipy.stats import chi2\n",
        "\n",
        "def chi_sqr(test_column,output_column):\n",
        "    observed_value = pd.crosstab(test_column,output_column)\n",
        "    val = stats.chi2_contingency(observed_value)\n",
        "    expected_value=val[3]\n",
        "    no_of_rows=len(observed_value.iloc[0:2,0])\n",
        "    no_of_columns=len(observed_value.iloc[0,0:2])\n",
        "    dgof=(no_of_rows-1)*(no_of_columns-1)\n",
        "    alpha=0.05\n",
        "    for o,e in zip(observed_value.values,expected_value):\n",
        "        chi_2 = sum([(o-e)**2./e])       \n",
        "    chi2_stat = np.sum(chi_2)\n",
        "    return chi2_stat\n",
        "    \n",
        "df1 = data.drop(['Outcome'], axis=1)\n",
        "top_n1 =[]\n",
        "for i in df1.columns.values:\n",
        "    top_n1.append(chi_sqr(df1[i],data['Outcome']))\n",
        "    \n",
        "col_name1 = np.array(X.columns)\n",
        "a1 = pd.DataFrame(top_n1)\n",
        "b1 = pd.DataFrame(col_name1)\n",
        "info1 = pd.concat([a1,b1], axis=1)\n",
        "info1.columns = ['Score','Features']\n",
        "\n",
        "top1 = info1.nsmallest(5,'Score')\n",
        "ft1 = np.array(top1['Features'])\n",
        "top1\n",
        "ft1"
      ],
      "execution_count": 30,
      "outputs": [
        {
          "output_type": "execute_result",
          "data": {
            "text/plain": [
              "array(['BloodPressure', 'Age', 'Pregnancies', 'Glucose', 'SkinThickness'],\n",
              "      dtype=object)"
            ]
          },
          "metadata": {
            "tags": []
          },
          "execution_count": 30
        }
      ]
    },
    {
      "cell_type": "markdown",
      "metadata": {
        "id": "f960kQEGP8pC"
      },
      "source": [
        "*ReliefF*"
      ]
    },
    {
      "cell_type": "code",
      "metadata": {
        "id": "MrY0ce8WoKcZ",
        "outputId": "a04c3cce-11c8-4483-d5ed-3580faeeeadc",
        "colab": {
          "base_uri": "https://localhost:8080/"
        }
      },
      "source": [
        "pip install skrebate"
      ],
      "execution_count": 32,
      "outputs": [
        {
          "output_type": "stream",
          "text": [
            "Collecting skrebate\n",
            "  Downloading https://files.pythonhosted.org/packages/d3/8a/969e619753c299b4d3943808ef5f7eb6587d3cb78c93dcbcc3e4ce269f89/skrebate-0.61.tar.gz\n",
            "Requirement already satisfied: numpy in /usr/local/lib/python3.6/dist-packages (from skrebate) (1.18.5)\n",
            "Requirement already satisfied: scipy in /usr/local/lib/python3.6/dist-packages (from skrebate) (1.4.1)\n",
            "Requirement already satisfied: scikit-learn in /usr/local/lib/python3.6/dist-packages (from skrebate) (0.22.2.post1)\n",
            "Requirement already satisfied: joblib>=0.11 in /usr/local/lib/python3.6/dist-packages (from scikit-learn->skrebate) (0.17.0)\n",
            "Building wheels for collected packages: skrebate\n",
            "  Building wheel for skrebate (setup.py) ... \u001b[?25l\u001b[?25hdone\n",
            "  Created wheel for skrebate: filename=skrebate-0.61-cp36-none-any.whl size=29259 sha256=8dcf288fb6b901314b5e8510548a264ddbcc280c6aaad5eb5ef94421bd947528\n",
            "  Stored in directory: /root/.cache/pip/wheels/ae/d8/ae/9b51d487e9d02219996d6c260255a216ef07d905b0a0b00ce3\n",
            "Successfully built skrebate\n",
            "Installing collected packages: skrebate\n",
            "Successfully installed skrebate-0.61\n"
          ],
          "name": "stdout"
        }
      ]
    },
    {
      "cell_type": "code",
      "metadata": {
        "id": "wIiArHy3mDWj",
        "outputId": "63594d4a-8ea2-42d5-d317-c91cb4fc573c",
        "colab": {
          "base_uri": "https://localhost:8080/"
        }
      },
      "source": [
        "from sklearn.pipeline import make_pipeline\n",
        "from skrebate import ReliefF\n",
        "\n",
        "features, classes = data.drop('Outcome', axis=1).values, data['Outcome'].values\n",
        "X_train, X_test, y_train, y_test = train_test_split(features, classes)\n",
        "\n",
        "arr = X_train.astype('float64')\n",
        "fs = ReliefF()\n",
        "fs.fit(arr, y_train)\n",
        "\n",
        "top_n2=[]\n",
        "names=[]\n",
        "for feature_name, feature_score in zip(data.drop('Outcome', axis=1).columns, fs.feature_importances_):\n",
        "    top_n2.append(feature_score)\n",
        "    names.append(feature_name)\n",
        "    \n",
        "col_name3 = np.array(data.columns)\n",
        "a3 = pd.DataFrame(top_n2)\n",
        "b3 = pd.DataFrame(names)\n",
        "\n",
        "info3 = pd.concat([a3,b3], axis=1)\n",
        "info3.columns = ['Score','Features'] \n",
        "\n",
        "top3 = info3.nlargest(5,'Score')\n",
        "ft3 = np.array(top3['Features'])\n",
        "ft3"
      ],
      "execution_count": 33,
      "outputs": [
        {
          "output_type": "execute_result",
          "data": {
            "text/plain": [
              "array(['Glucose', 'Age', 'Insulin', 'SkinThickness', 'Pregnancies'],\n",
              "      dtype=object)"
            ]
          },
          "metadata": {
            "tags": []
          },
          "execution_count": 33
        }
      ]
    },
    {
      "cell_type": "markdown",
      "metadata": {
        "id": "SEzp7tmLQCQn"
      },
      "source": [
        "*Information Gain*"
      ]
    },
    {
      "cell_type": "code",
      "metadata": {
        "id": "qe2Wk2WrmDWp",
        "outputId": "a5ae4830-631d-46ed-b436-cc8d1fcb548f",
        "colab": {
          "base_uri": "https://localhost:8080/"
        }
      },
      "source": [
        "from sklearn.feature_selection import mutual_info_classif\n",
        "\n",
        "res = mutual_info_classif(X,y,discrete_features=True)\n",
        "\n",
        "col_name2 = np.array(X.columns)\n",
        "\n",
        "a2 = pd.DataFrame(res)\n",
        "b2 = pd.DataFrame(col_name2)\n",
        "info2 = pd.concat([a2,b2], axis=1)\n",
        "info2.columns = ['Info_Gain','Features']\n",
        "\n",
        "top2 = info2.nlargest(5,'Info_Gain')\n",
        "ft2 = np.array(top2['Features'])\n",
        "ft2\n",
        "#array(['Insulin', 'DiabetesPedigreeFunction', 'BMI', 'Glucose','SkinThickness'], dtype=object)\n"
      ],
      "execution_count": 38,
      "outputs": [
        {
          "output_type": "execute_result",
          "data": {
            "text/plain": [
              "array(['Insulin', 'DiabetesPedigreeFunction', 'BMI', 'Glucose',\n",
              "       'SkinThickness'], dtype=object)"
            ]
          },
          "metadata": {
            "tags": []
          },
          "execution_count": 38
        }
      ]
    },
    {
      "cell_type": "markdown",
      "metadata": {
        "id": "VZzBP_9MQOsa"
      },
      "source": [
        "*Union Function*"
      ]
    },
    {
      "cell_type": "code",
      "metadata": {
        "id": "6i4DoZCpmDWu"
      },
      "source": [
        "from functools import reduce\n",
        "def top_fs_union(n):\n",
        "    f1 = ft1[:n]\n",
        "    f2 = ft2[:n]\n",
        "    f3 = ft3[:n]\n",
        "    print (reduce(np.union1d, (f1,f2,f3)))\n",
        "    return(reduce(np.union1d, (f1,f2,f3)))"
      ],
      "execution_count": 39,
      "outputs": []
    },
    {
      "cell_type": "markdown",
      "metadata": {
        "id": "zQh94y5gQSKH"
      },
      "source": [
        "*Classifier function call with selected top n*"
      ]
    },
    {
      "cell_type": "code",
      "metadata": {
        "id": "2GWYYmDBmDW1"
      },
      "source": [
        "def assemble_run(n,classifier):\n",
        "  top_fs=top_fs_union(n)\n",
        "  top_fs=np.append(top_fs,['Outcome'], axis=0)\n",
        "  dfs = data.loc[:,top_fs]\n",
        "  X = dfs.drop(['Outcome'], axis=1)\n",
        "  y = dfs['Outcome']\n",
        "  model = classifier()\n",
        "  scores = cross_val_score(model, X, y, scoring='accuracy', cv=cv, n_jobs=-1)\n",
        "  print('Accuracy 10 fold: %.4f (%.3f)' % (mean(scores)*100, std(scores)))\n"
      ],
      "execution_count": 40,
      "outputs": []
    },
    {
      "cell_type": "code",
      "metadata": {
        "id": "BvlIkbwWmDW-",
        "outputId": "4bf4c631-f7f6-42d0-dea4-0abe392a3631",
        "colab": {
          "base_uri": "https://localhost:8080/"
        }
      },
      "source": [
        "#RANDOM FOREST CLASSIFIER\n",
        "\n",
        "#Feature Subset by Union of Best Features from each\n",
        "RFC1 = assemble_run(2,RandomForestClassifier)\n",
        "RFC2 = assemble_run(4,RandomForestClassifier)\n",
        "RFC3 = assemble_run(6,RandomForestClassifier)\n"
      ],
      "execution_count": 45,
      "outputs": [
        {
          "output_type": "stream",
          "text": [
            "['Age' 'BloodPressure' 'DiabetesPedigreeFunction' 'Glucose' 'Insulin']\n",
            "Accuracy 10 fold: 88.4193 (0.036)\n",
            "['Age' 'BMI' 'BloodPressure' 'DiabetesPedigreeFunction' 'Glucose'\n",
            " 'Insulin' 'Pregnancies' 'SkinThickness']\n",
            "Accuracy 10 fold: 89.8530 (0.025)\n",
            "['Age' 'BMI' 'BloodPressure' 'DiabetesPedigreeFunction' 'Glucose'\n",
            " 'Insulin' 'Pregnancies' 'SkinThickness']\n",
            "Accuracy 10 fold: 89.0721 (0.028)\n"
          ],
          "name": "stdout"
        }
      ]
    },
    {
      "cell_type": "code",
      "metadata": {
        "id": "Gel_2PGEmDXE",
        "outputId": "3d04d27a-26e8-44b7-a929-b2f22bb13ee7",
        "colab": {
          "base_uri": "https://localhost:8080/"
        }
      },
      "source": [
        "#XG BOOST CLASSIFIER\n",
        "\n",
        "#Feature Subset by Union of Best Features from each\n",
        "XGB1 = assemble_run(2,XGBClassifier)\n",
        "XGB2 = assemble_run(4,XGBClassifier)\n",
        "XGB3 = assemble_run(6,XGBClassifier)\n"
      ],
      "execution_count": 46,
      "outputs": [
        {
          "output_type": "stream",
          "text": [
            "['Age' 'BloodPressure' 'DiabetesPedigreeFunction' 'Glucose' 'Insulin']\n",
            "Accuracy 10 fold: 89.5916 (0.030)\n",
            "['Age' 'BMI' 'BloodPressure' 'DiabetesPedigreeFunction' 'Glucose'\n",
            " 'Insulin' 'Pregnancies' 'SkinThickness']\n",
            "Accuracy 10 fold: 89.2037 (0.026)\n",
            "['Age' 'BMI' 'BloodPressure' 'DiabetesPedigreeFunction' 'Glucose'\n",
            " 'Insulin' 'Pregnancies' 'SkinThickness']\n",
            "Accuracy 10 fold: 89.2037 (0.026)\n"
          ],
          "name": "stdout"
        }
      ]
    },
    {
      "cell_type": "code",
      "metadata": {
        "id": "klQarjWnmDXP",
        "outputId": "954b69c2-c1a3-44b5-dc5f-99d1532382a3",
        "colab": {
          "base_uri": "https://localhost:8080/"
        }
      },
      "source": [
        "#KNN CLASSIFIER\n",
        "\n",
        "#Feature Subset by Union of Best Features from each\n",
        "KNN1 = assemble_run(2,KNeighborsClassifier)\n",
        "KNN1 = assemble_run(4,KNeighborsClassifier)\n",
        "KNN1 = assemble_run(6,KNeighborsClassifier)\n"
      ],
      "execution_count": 50,
      "outputs": [
        {
          "output_type": "stream",
          "text": [
            "['Age' 'BloodPressure' 'DiabetesPedigreeFunction' 'Glucose' 'Insulin']\n",
            "Accuracy 10 fold: 86.5977 (0.027)\n",
            "['Age' 'BMI' 'BloodPressure' 'DiabetesPedigreeFunction' 'Glucose'\n",
            " 'Insulin' 'Pregnancies' 'SkinThickness']\n",
            "Accuracy 10 fold: 85.6835 (0.029)\n",
            "['Age' 'BMI' 'BloodPressure' 'DiabetesPedigreeFunction' 'Glucose'\n",
            " 'Insulin' 'Pregnancies' 'SkinThickness']\n",
            "Accuracy 10 fold: 85.6835 (0.029)\n"
          ],
          "name": "stdout"
        }
      ]
    },
    {
      "cell_type": "code",
      "metadata": {
        "id": "ipiNgrooSIqg",
        "outputId": "83eb3352-5f44-4ba1-f1f9-500f1462e18a",
        "colab": {
          "base_uri": "https://localhost:8080/"
        }
      },
      "source": [
        "#Naive Bayes CLASSIFIER\n",
        "#Feature Subset by Union of 5 Best Features from each\n",
        "NB1 = assemble_run(2,GaussianNB)\n",
        "#Feature Subset by Union of 8 Best Features from each\n",
        "NB2 = assemble_run(4,GaussianNB)\n",
        "#Feature Subset by Union of 10 Best Features from each\n",
        "NB3 = assemble_run(6,GaussianNB)"
      ],
      "execution_count": 53,
      "outputs": [
        {
          "output_type": "stream",
          "text": [
            "['Age' 'BloodPressure' 'DiabetesPedigreeFunction' 'Glucose' 'Insulin']\n",
            "Accuracy 10 fold: 74.7403 (0.027)\n",
            "['Age' 'BMI' 'BloodPressure' 'DiabetesPedigreeFunction' 'Glucose'\n",
            " 'Insulin' 'Pregnancies' 'SkinThickness']\n",
            "Accuracy 10 fold: 75.5212 (0.025)\n",
            "['Age' 'BMI' 'BloodPressure' 'DiabetesPedigreeFunction' 'Glucose'\n",
            " 'Insulin' 'Pregnancies' 'SkinThickness']\n",
            "Accuracy 10 fold: 75.5212 (0.025)\n"
          ],
          "name": "stdout"
        }
      ]
    }
  ]
}